{
 "cells": [
  {
   "cell_type": "code",
   "execution_count": 1,
   "metadata": {},
   "outputs": [],
   "source": [
    "import numpy as np\n",
    "import pandas as pd\n",
    "import matplotlib.pyplot as plt\n",
    "import seaborn as sns\n",
    "\n",
    "import warnings\n",
    "warnings.filterwarnings('ignore')"
   ]
  },
  {
   "cell_type": "code",
   "execution_count": 2,
   "metadata": {},
   "outputs": [],
   "source": [
    "data = pd.read_csv(\"Ascendeum_Dataset2.csv\")"
   ]
  },
  {
   "cell_type": "code",
   "execution_count": 3,
   "metadata": {},
   "outputs": [
    {
     "name": "stdout",
     "output_type": "stream",
     "text": [
      "<class 'pandas.core.frame.DataFrame'>\n",
      "RangeIndex: 567291 entries, 0 to 567290\n",
      "Data columns (total 17 columns):\n",
      "date                       567291 non-null object\n",
      "site_id                    567291 non-null int64\n",
      "ad_type_id                 567291 non-null int64\n",
      "geo_id                     567291 non-null int64\n",
      "device_category_id         567291 non-null int64\n",
      "advertiser_id              567291 non-null int64\n",
      "order_id                   567291 non-null int64\n",
      "line_item_type_id          567291 non-null int64\n",
      "os_id                      567291 non-null int64\n",
      "integration_type_id        567291 non-null int64\n",
      "monetization_channel_id    567291 non-null int64\n",
      "ad_unit_id                 567291 non-null int64\n",
      "total_impressions          567291 non-null int64\n",
      "total_revenue              567291 non-null float64\n",
      "viewable_impressions       567291 non-null int64\n",
      "measurable_impressions     567291 non-null int64\n",
      "revenue_share_percent      567291 non-null int64\n",
      "dtypes: float64(1), int64(15), object(1)\n",
      "memory usage: 73.6+ MB\n"
     ]
    }
   ],
   "source": [
    "data.info()"
   ]
  },
  {
   "cell_type": "code",
   "execution_count": 4,
   "metadata": {
    "scrolled": true
   },
   "outputs": [
    {
     "data": {
      "text/html": [
       "<div>\n",
       "<style scoped>\n",
       "    .dataframe tbody tr th:only-of-type {\n",
       "        vertical-align: middle;\n",
       "    }\n",
       "\n",
       "    .dataframe tbody tr th {\n",
       "        vertical-align: top;\n",
       "    }\n",
       "\n",
       "    .dataframe thead th {\n",
       "        text-align: right;\n",
       "    }\n",
       "</style>\n",
       "<table border=\"1\" class=\"dataframe\">\n",
       "  <thead>\n",
       "    <tr style=\"text-align: right;\">\n",
       "      <th></th>\n",
       "      <th>site_id</th>\n",
       "      <th>ad_type_id</th>\n",
       "      <th>geo_id</th>\n",
       "      <th>device_category_id</th>\n",
       "      <th>advertiser_id</th>\n",
       "      <th>order_id</th>\n",
       "      <th>line_item_type_id</th>\n",
       "      <th>os_id</th>\n",
       "      <th>integration_type_id</th>\n",
       "      <th>monetization_channel_id</th>\n",
       "      <th>ad_unit_id</th>\n",
       "      <th>total_impressions</th>\n",
       "      <th>total_revenue</th>\n",
       "      <th>viewable_impressions</th>\n",
       "      <th>measurable_impressions</th>\n",
       "      <th>revenue_share_percent</th>\n",
       "    </tr>\n",
       "  </thead>\n",
       "  <tbody>\n",
       "    <tr>\n",
       "      <th>count</th>\n",
       "      <td>567291.000000</td>\n",
       "      <td>567291.000000</td>\n",
       "      <td>567291.000000</td>\n",
       "      <td>567291.000000</td>\n",
       "      <td>567291.000000</td>\n",
       "      <td>567291.000000</td>\n",
       "      <td>567291.000000</td>\n",
       "      <td>567291.000000</td>\n",
       "      <td>567291.0</td>\n",
       "      <td>567291.000000</td>\n",
       "      <td>567291.000000</td>\n",
       "      <td>567291.000000</td>\n",
       "      <td>567291.000000</td>\n",
       "      <td>567291.000000</td>\n",
       "      <td>567291.000000</td>\n",
       "      <td>567291.0</td>\n",
       "    </tr>\n",
       "    <tr>\n",
       "      <th>mean</th>\n",
       "      <td>347.107775</td>\n",
       "      <td>10.220578</td>\n",
       "      <td>110.226133</td>\n",
       "      <td>1.899669</td>\n",
       "      <td>262.084295</td>\n",
       "      <td>1951.273747</td>\n",
       "      <td>12.632081</td>\n",
       "      <td>57.217194</td>\n",
       "      <td>1.0</td>\n",
       "      <td>14.433716</td>\n",
       "      <td>5136.436645</td>\n",
       "      <td>33.673674</td>\n",
       "      <td>0.069740</td>\n",
       "      <td>12.838251</td>\n",
       "      <td>32.152818</td>\n",
       "      <td>1.0</td>\n",
       "    </tr>\n",
       "    <tr>\n",
       "      <th>std</th>\n",
       "      <td>2.930371</td>\n",
       "      <td>1.222863</td>\n",
       "      <td>66.177820</td>\n",
       "      <td>0.791982</td>\n",
       "      <td>627.325490</td>\n",
       "      <td>1652.545702</td>\n",
       "      <td>6.812571</td>\n",
       "      <td>1.956012</td>\n",
       "      <td>0.0</td>\n",
       "      <td>7.135874</td>\n",
       "      <td>62.508575</td>\n",
       "      <td>220.865448</td>\n",
       "      <td>0.713603</td>\n",
       "      <td>101.989184</td>\n",
       "      <td>207.096504</td>\n",
       "      <td>0.0</td>\n",
       "    </tr>\n",
       "    <tr>\n",
       "      <th>min</th>\n",
       "      <td>342.000000</td>\n",
       "      <td>10.000000</td>\n",
       "      <td>1.000000</td>\n",
       "      <td>1.000000</td>\n",
       "      <td>8.000000</td>\n",
       "      <td>45.000000</td>\n",
       "      <td>3.000000</td>\n",
       "      <td>15.000000</td>\n",
       "      <td>1.0</td>\n",
       "      <td>1.000000</td>\n",
       "      <td>5050.000000</td>\n",
       "      <td>0.000000</td>\n",
       "      <td>-0.154200</td>\n",
       "      <td>0.000000</td>\n",
       "      <td>0.000000</td>\n",
       "      <td>1.0</td>\n",
       "    </tr>\n",
       "    <tr>\n",
       "      <th>25%</th>\n",
       "      <td>345.000000</td>\n",
       "      <td>10.000000</td>\n",
       "      <td>39.000000</td>\n",
       "      <td>1.000000</td>\n",
       "      <td>79.000000</td>\n",
       "      <td>45.000000</td>\n",
       "      <td>4.000000</td>\n",
       "      <td>56.000000</td>\n",
       "      <td>1.0</td>\n",
       "      <td>4.000000</td>\n",
       "      <td>5099.000000</td>\n",
       "      <td>0.000000</td>\n",
       "      <td>0.000000</td>\n",
       "      <td>0.000000</td>\n",
       "      <td>0.000000</td>\n",
       "      <td>1.0</td>\n",
       "    </tr>\n",
       "    <tr>\n",
       "      <th>50%</th>\n",
       "      <td>346.000000</td>\n",
       "      <td>10.000000</td>\n",
       "      <td>122.000000</td>\n",
       "      <td>2.000000</td>\n",
       "      <td>88.000000</td>\n",
       "      <td>3438.000000</td>\n",
       "      <td>11.000000</td>\n",
       "      <td>57.000000</td>\n",
       "      <td>1.0</td>\n",
       "      <td>19.000000</td>\n",
       "      <td>5127.000000</td>\n",
       "      <td>2.000000</td>\n",
       "      <td>0.000000</td>\n",
       "      <td>0.000000</td>\n",
       "      <td>2.000000</td>\n",
       "      <td>1.0</td>\n",
       "    </tr>\n",
       "    <tr>\n",
       "      <th>75%</th>\n",
       "      <td>350.000000</td>\n",
       "      <td>10.000000</td>\n",
       "      <td>183.000000</td>\n",
       "      <td>3.000000</td>\n",
       "      <td>139.000000</td>\n",
       "      <td>3460.000000</td>\n",
       "      <td>19.000000</td>\n",
       "      <td>58.000000</td>\n",
       "      <td>1.0</td>\n",
       "      <td>19.000000</td>\n",
       "      <td>5168.000000</td>\n",
       "      <td>6.000000</td>\n",
       "      <td>0.005400</td>\n",
       "      <td>2.000000</td>\n",
       "      <td>6.000000</td>\n",
       "      <td>1.0</td>\n",
       "    </tr>\n",
       "    <tr>\n",
       "      <th>max</th>\n",
       "      <td>351.000000</td>\n",
       "      <td>17.000000</td>\n",
       "      <td>308.000000</td>\n",
       "      <td>5.000000</td>\n",
       "      <td>2646.000000</td>\n",
       "      <td>3489.000000</td>\n",
       "      <td>20.000000</td>\n",
       "      <td>60.000000</td>\n",
       "      <td>1.0</td>\n",
       "      <td>21.000000</td>\n",
       "      <td>5443.000000</td>\n",
       "      <td>14452.000000</td>\n",
       "      <td>83.822000</td>\n",
       "      <td>7392.000000</td>\n",
       "      <td>13756.000000</td>\n",
       "      <td>1.0</td>\n",
       "    </tr>\n",
       "  </tbody>\n",
       "</table>\n",
       "</div>"
      ],
      "text/plain": [
       "             site_id     ad_type_id         geo_id  device_category_id  \\\n",
       "count  567291.000000  567291.000000  567291.000000       567291.000000   \n",
       "mean      347.107775      10.220578     110.226133            1.899669   \n",
       "std         2.930371       1.222863      66.177820            0.791982   \n",
       "min       342.000000      10.000000       1.000000            1.000000   \n",
       "25%       345.000000      10.000000      39.000000            1.000000   \n",
       "50%       346.000000      10.000000     122.000000            2.000000   \n",
       "75%       350.000000      10.000000     183.000000            3.000000   \n",
       "max       351.000000      17.000000     308.000000            5.000000   \n",
       "\n",
       "       advertiser_id       order_id  line_item_type_id          os_id  \\\n",
       "count  567291.000000  567291.000000      567291.000000  567291.000000   \n",
       "mean      262.084295    1951.273747          12.632081      57.217194   \n",
       "std       627.325490    1652.545702           6.812571       1.956012   \n",
       "min         8.000000      45.000000           3.000000      15.000000   \n",
       "25%        79.000000      45.000000           4.000000      56.000000   \n",
       "50%        88.000000    3438.000000          11.000000      57.000000   \n",
       "75%       139.000000    3460.000000          19.000000      58.000000   \n",
       "max      2646.000000    3489.000000          20.000000      60.000000   \n",
       "\n",
       "       integration_type_id  monetization_channel_id     ad_unit_id  \\\n",
       "count             567291.0            567291.000000  567291.000000   \n",
       "mean                   1.0                14.433716    5136.436645   \n",
       "std                    0.0                 7.135874      62.508575   \n",
       "min                    1.0                 1.000000    5050.000000   \n",
       "25%                    1.0                 4.000000    5099.000000   \n",
       "50%                    1.0                19.000000    5127.000000   \n",
       "75%                    1.0                19.000000    5168.000000   \n",
       "max                    1.0                21.000000    5443.000000   \n",
       "\n",
       "       total_impressions  total_revenue  viewable_impressions  \\\n",
       "count      567291.000000  567291.000000         567291.000000   \n",
       "mean           33.673674       0.069740             12.838251   \n",
       "std           220.865448       0.713603            101.989184   \n",
       "min             0.000000      -0.154200              0.000000   \n",
       "25%             0.000000       0.000000              0.000000   \n",
       "50%             2.000000       0.000000              0.000000   \n",
       "75%             6.000000       0.005400              2.000000   \n",
       "max         14452.000000      83.822000           7392.000000   \n",
       "\n",
       "       measurable_impressions  revenue_share_percent  \n",
       "count           567291.000000               567291.0  \n",
       "mean                32.152818                    1.0  \n",
       "std                207.096504                    0.0  \n",
       "min                  0.000000                    1.0  \n",
       "25%                  0.000000                    1.0  \n",
       "50%                  2.000000                    1.0  \n",
       "75%                  6.000000                    1.0  \n",
       "max              13756.000000                    1.0  "
      ]
     },
     "execution_count": 4,
     "metadata": {},
     "output_type": "execute_result"
    }
   ],
   "source": [
    "data.describe()"
   ]
  },
  {
   "cell_type": "markdown",
   "metadata": {},
   "source": [
    "- The data doesn't seem to have any null values \n",
    "- The revenue_share_percent was fixed at 1 so this column won't impact and can be dropped.\n",
    "\n",
    "* Order_id and line_item_type_id were defined to be ignored."
   ]
  },
  {
   "cell_type": "code",
   "execution_count": 5,
   "metadata": {},
   "outputs": [
    {
     "data": {
      "text/html": [
       "<div>\n",
       "<style scoped>\n",
       "    .dataframe tbody tr th:only-of-type {\n",
       "        vertical-align: middle;\n",
       "    }\n",
       "\n",
       "    .dataframe tbody tr th {\n",
       "        vertical-align: top;\n",
       "    }\n",
       "\n",
       "    .dataframe thead th {\n",
       "        text-align: right;\n",
       "    }\n",
       "</style>\n",
       "<table border=\"1\" class=\"dataframe\">\n",
       "  <thead>\n",
       "    <tr style=\"text-align: right;\">\n",
       "      <th></th>\n",
       "      <th>date</th>\n",
       "      <th>site_id</th>\n",
       "      <th>ad_type_id</th>\n",
       "      <th>geo_id</th>\n",
       "      <th>device_category_id</th>\n",
       "      <th>advertiser_id</th>\n",
       "      <th>os_id</th>\n",
       "      <th>integration_type_id</th>\n",
       "      <th>monetization_channel_id</th>\n",
       "      <th>ad_unit_id</th>\n",
       "      <th>total_impressions</th>\n",
       "      <th>total_revenue</th>\n",
       "      <th>viewable_impressions</th>\n",
       "      <th>measurable_impressions</th>\n",
       "    </tr>\n",
       "  </thead>\n",
       "  <tbody>\n",
       "    <tr>\n",
       "      <th>0</th>\n",
       "      <td>2019-06-30 00:00:00</td>\n",
       "      <td>351</td>\n",
       "      <td>10</td>\n",
       "      <td>187</td>\n",
       "      <td>2</td>\n",
       "      <td>84</td>\n",
       "      <td>60</td>\n",
       "      <td>1</td>\n",
       "      <td>4</td>\n",
       "      <td>5174</td>\n",
       "      <td>16</td>\n",
       "      <td>0.0000</td>\n",
       "      <td>2</td>\n",
       "      <td>16</td>\n",
       "    </tr>\n",
       "    <tr>\n",
       "      <th>1</th>\n",
       "      <td>2019-06-30 00:00:00</td>\n",
       "      <td>351</td>\n",
       "      <td>10</td>\n",
       "      <td>187</td>\n",
       "      <td>2</td>\n",
       "      <td>84</td>\n",
       "      <td>58</td>\n",
       "      <td>1</td>\n",
       "      <td>4</td>\n",
       "      <td>5174</td>\n",
       "      <td>6</td>\n",
       "      <td>0.0000</td>\n",
       "      <td>0</td>\n",
       "      <td>6</td>\n",
       "    </tr>\n",
       "    <tr>\n",
       "      <th>2</th>\n",
       "      <td>2019-06-30 00:00:00</td>\n",
       "      <td>351</td>\n",
       "      <td>10</td>\n",
       "      <td>147</td>\n",
       "      <td>2</td>\n",
       "      <td>84</td>\n",
       "      <td>60</td>\n",
       "      <td>1</td>\n",
       "      <td>4</td>\n",
       "      <td>5174</td>\n",
       "      <td>4</td>\n",
       "      <td>0.0000</td>\n",
       "      <td>0</td>\n",
       "      <td>4</td>\n",
       "    </tr>\n",
       "    <tr>\n",
       "      <th>3</th>\n",
       "      <td>2019-06-30 00:00:00</td>\n",
       "      <td>351</td>\n",
       "      <td>10</td>\n",
       "      <td>147</td>\n",
       "      <td>2</td>\n",
       "      <td>84</td>\n",
       "      <td>58</td>\n",
       "      <td>1</td>\n",
       "      <td>4</td>\n",
       "      <td>5174</td>\n",
       "      <td>4</td>\n",
       "      <td>0.0000</td>\n",
       "      <td>0</td>\n",
       "      <td>4</td>\n",
       "    </tr>\n",
       "    <tr>\n",
       "      <th>4</th>\n",
       "      <td>2019-06-30 00:00:00</td>\n",
       "      <td>348</td>\n",
       "      <td>10</td>\n",
       "      <td>147</td>\n",
       "      <td>3</td>\n",
       "      <td>79</td>\n",
       "      <td>59</td>\n",
       "      <td>1</td>\n",
       "      <td>19</td>\n",
       "      <td>5138</td>\n",
       "      <td>4</td>\n",
       "      <td>0.0000</td>\n",
       "      <td>0</td>\n",
       "      <td>4</td>\n",
       "    </tr>\n",
       "    <tr>\n",
       "      <th>5</th>\n",
       "      <td>2019-06-30 00:00:00</td>\n",
       "      <td>348</td>\n",
       "      <td>10</td>\n",
       "      <td>147</td>\n",
       "      <td>3</td>\n",
       "      <td>79</td>\n",
       "      <td>59</td>\n",
       "      <td>1</td>\n",
       "      <td>19</td>\n",
       "      <td>5144</td>\n",
       "      <td>2</td>\n",
       "      <td>0.0000</td>\n",
       "      <td>0</td>\n",
       "      <td>2</td>\n",
       "    </tr>\n",
       "    <tr>\n",
       "      <th>6</th>\n",
       "      <td>2019-06-30 00:00:00</td>\n",
       "      <td>351</td>\n",
       "      <td>17</td>\n",
       "      <td>191</td>\n",
       "      <td>1</td>\n",
       "      <td>79</td>\n",
       "      <td>56</td>\n",
       "      <td>1</td>\n",
       "      <td>19</td>\n",
       "      <td>5169</td>\n",
       "      <td>2</td>\n",
       "      <td>0.0000</td>\n",
       "      <td>2</td>\n",
       "      <td>2</td>\n",
       "    </tr>\n",
       "    <tr>\n",
       "      <th>7</th>\n",
       "      <td>2019-06-30 00:00:00</td>\n",
       "      <td>351</td>\n",
       "      <td>17</td>\n",
       "      <td>187</td>\n",
       "      <td>5</td>\n",
       "      <td>79</td>\n",
       "      <td>56</td>\n",
       "      <td>1</td>\n",
       "      <td>19</td>\n",
       "      <td>5169</td>\n",
       "      <td>2</td>\n",
       "      <td>0.0000</td>\n",
       "      <td>2</td>\n",
       "      <td>2</td>\n",
       "    </tr>\n",
       "    <tr>\n",
       "      <th>8</th>\n",
       "      <td>2019-06-30 00:00:00</td>\n",
       "      <td>351</td>\n",
       "      <td>17</td>\n",
       "      <td>187</td>\n",
       "      <td>3</td>\n",
       "      <td>79</td>\n",
       "      <td>59</td>\n",
       "      <td>1</td>\n",
       "      <td>19</td>\n",
       "      <td>5169</td>\n",
       "      <td>80</td>\n",
       "      <td>0.0000</td>\n",
       "      <td>80</td>\n",
       "      <td>80</td>\n",
       "    </tr>\n",
       "    <tr>\n",
       "      <th>9</th>\n",
       "      <td>2019-06-30 00:00:00</td>\n",
       "      <td>351</td>\n",
       "      <td>17</td>\n",
       "      <td>187</td>\n",
       "      <td>3</td>\n",
       "      <td>79</td>\n",
       "      <td>55</td>\n",
       "      <td>1</td>\n",
       "      <td>19</td>\n",
       "      <td>5169</td>\n",
       "      <td>92</td>\n",
       "      <td>0.0000</td>\n",
       "      <td>92</td>\n",
       "      <td>92</td>\n",
       "    </tr>\n",
       "    <tr>\n",
       "      <th>10</th>\n",
       "      <td>2019-06-30 00:00:00</td>\n",
       "      <td>351</td>\n",
       "      <td>17</td>\n",
       "      <td>187</td>\n",
       "      <td>2</td>\n",
       "      <td>79</td>\n",
       "      <td>60</td>\n",
       "      <td>1</td>\n",
       "      <td>19</td>\n",
       "      <td>5169</td>\n",
       "      <td>766</td>\n",
       "      <td>0.0000</td>\n",
       "      <td>756</td>\n",
       "      <td>764</td>\n",
       "    </tr>\n",
       "    <tr>\n",
       "      <th>11</th>\n",
       "      <td>2019-06-30 00:00:00</td>\n",
       "      <td>351</td>\n",
       "      <td>17</td>\n",
       "      <td>187</td>\n",
       "      <td>2</td>\n",
       "      <td>79</td>\n",
       "      <td>58</td>\n",
       "      <td>1</td>\n",
       "      <td>19</td>\n",
       "      <td>5169</td>\n",
       "      <td>638</td>\n",
       "      <td>0.0000</td>\n",
       "      <td>628</td>\n",
       "      <td>638</td>\n",
       "    </tr>\n",
       "    <tr>\n",
       "      <th>12</th>\n",
       "      <td>2019-06-30 00:00:00</td>\n",
       "      <td>351</td>\n",
       "      <td>17</td>\n",
       "      <td>187</td>\n",
       "      <td>1</td>\n",
       "      <td>79</td>\n",
       "      <td>56</td>\n",
       "      <td>1</td>\n",
       "      <td>19</td>\n",
       "      <td>5169</td>\n",
       "      <td>1728</td>\n",
       "      <td>0.0000</td>\n",
       "      <td>1714</td>\n",
       "      <td>1728</td>\n",
       "    </tr>\n",
       "    <tr>\n",
       "      <th>13</th>\n",
       "      <td>2019-06-30 00:00:00</td>\n",
       "      <td>351</td>\n",
       "      <td>17</td>\n",
       "      <td>183</td>\n",
       "      <td>3</td>\n",
       "      <td>79</td>\n",
       "      <td>59</td>\n",
       "      <td>1</td>\n",
       "      <td>19</td>\n",
       "      <td>5169</td>\n",
       "      <td>4</td>\n",
       "      <td>0.0000</td>\n",
       "      <td>4</td>\n",
       "      <td>4</td>\n",
       "    </tr>\n",
       "    <tr>\n",
       "      <th>14</th>\n",
       "      <td>2019-06-30 00:00:00</td>\n",
       "      <td>351</td>\n",
       "      <td>17</td>\n",
       "      <td>183</td>\n",
       "      <td>3</td>\n",
       "      <td>79</td>\n",
       "      <td>55</td>\n",
       "      <td>1</td>\n",
       "      <td>19</td>\n",
       "      <td>5169</td>\n",
       "      <td>4</td>\n",
       "      <td>0.0000</td>\n",
       "      <td>4</td>\n",
       "      <td>4</td>\n",
       "    </tr>\n",
       "    <tr>\n",
       "      <th>15</th>\n",
       "      <td>2019-06-30 00:00:00</td>\n",
       "      <td>351</td>\n",
       "      <td>17</td>\n",
       "      <td>183</td>\n",
       "      <td>2</td>\n",
       "      <td>79</td>\n",
       "      <td>60</td>\n",
       "      <td>1</td>\n",
       "      <td>19</td>\n",
       "      <td>5169</td>\n",
       "      <td>10</td>\n",
       "      <td>0.0000</td>\n",
       "      <td>10</td>\n",
       "      <td>10</td>\n",
       "    </tr>\n",
       "    <tr>\n",
       "      <th>16</th>\n",
       "      <td>2019-06-30 00:00:00</td>\n",
       "      <td>351</td>\n",
       "      <td>17</td>\n",
       "      <td>183</td>\n",
       "      <td>2</td>\n",
       "      <td>79</td>\n",
       "      <td>58</td>\n",
       "      <td>1</td>\n",
       "      <td>19</td>\n",
       "      <td>5169</td>\n",
       "      <td>8</td>\n",
       "      <td>0.0000</td>\n",
       "      <td>8</td>\n",
       "      <td>8</td>\n",
       "    </tr>\n",
       "    <tr>\n",
       "      <th>17</th>\n",
       "      <td>2019-06-30 00:00:00</td>\n",
       "      <td>351</td>\n",
       "      <td>17</td>\n",
       "      <td>183</td>\n",
       "      <td>1</td>\n",
       "      <td>79</td>\n",
       "      <td>56</td>\n",
       "      <td>1</td>\n",
       "      <td>19</td>\n",
       "      <td>5169</td>\n",
       "      <td>42</td>\n",
       "      <td>0.0000</td>\n",
       "      <td>42</td>\n",
       "      <td>42</td>\n",
       "    </tr>\n",
       "    <tr>\n",
       "      <th>18</th>\n",
       "      <td>2019-06-30 00:00:00</td>\n",
       "      <td>351</td>\n",
       "      <td>17</td>\n",
       "      <td>176</td>\n",
       "      <td>1</td>\n",
       "      <td>79</td>\n",
       "      <td>56</td>\n",
       "      <td>1</td>\n",
       "      <td>19</td>\n",
       "      <td>5169</td>\n",
       "      <td>4</td>\n",
       "      <td>0.0000</td>\n",
       "      <td>4</td>\n",
       "      <td>4</td>\n",
       "    </tr>\n",
       "    <tr>\n",
       "      <th>19</th>\n",
       "      <td>2019-06-30 00:00:00</td>\n",
       "      <td>351</td>\n",
       "      <td>17</td>\n",
       "      <td>163</td>\n",
       "      <td>2</td>\n",
       "      <td>79</td>\n",
       "      <td>58</td>\n",
       "      <td>1</td>\n",
       "      <td>19</td>\n",
       "      <td>5169</td>\n",
       "      <td>2</td>\n",
       "      <td>0.0000</td>\n",
       "      <td>2</td>\n",
       "      <td>2</td>\n",
       "    </tr>\n",
       "    <tr>\n",
       "      <th>20</th>\n",
       "      <td>2019-06-30 00:00:00</td>\n",
       "      <td>351</td>\n",
       "      <td>17</td>\n",
       "      <td>163</td>\n",
       "      <td>1</td>\n",
       "      <td>79</td>\n",
       "      <td>56</td>\n",
       "      <td>1</td>\n",
       "      <td>19</td>\n",
       "      <td>5169</td>\n",
       "      <td>2</td>\n",
       "      <td>0.0000</td>\n",
       "      <td>2</td>\n",
       "      <td>2</td>\n",
       "    </tr>\n",
       "    <tr>\n",
       "      <th>21</th>\n",
       "      <td>2019-06-30 00:00:00</td>\n",
       "      <td>351</td>\n",
       "      <td>17</td>\n",
       "      <td>147</td>\n",
       "      <td>1</td>\n",
       "      <td>79</td>\n",
       "      <td>56</td>\n",
       "      <td>1</td>\n",
       "      <td>19</td>\n",
       "      <td>5169</td>\n",
       "      <td>2</td>\n",
       "      <td>0.0000</td>\n",
       "      <td>2</td>\n",
       "      <td>2</td>\n",
       "    </tr>\n",
       "    <tr>\n",
       "      <th>22</th>\n",
       "      <td>2019-06-30 00:00:00</td>\n",
       "      <td>351</td>\n",
       "      <td>17</td>\n",
       "      <td>146</td>\n",
       "      <td>2</td>\n",
       "      <td>79</td>\n",
       "      <td>58</td>\n",
       "      <td>1</td>\n",
       "      <td>19</td>\n",
       "      <td>5169</td>\n",
       "      <td>2</td>\n",
       "      <td>0.0000</td>\n",
       "      <td>2</td>\n",
       "      <td>2</td>\n",
       "    </tr>\n",
       "    <tr>\n",
       "      <th>23</th>\n",
       "      <td>2019-06-30 00:00:00</td>\n",
       "      <td>351</td>\n",
       "      <td>17</td>\n",
       "      <td>146</td>\n",
       "      <td>1</td>\n",
       "      <td>79</td>\n",
       "      <td>56</td>\n",
       "      <td>1</td>\n",
       "      <td>19</td>\n",
       "      <td>5169</td>\n",
       "      <td>2</td>\n",
       "      <td>0.0000</td>\n",
       "      <td>2</td>\n",
       "      <td>2</td>\n",
       "    </tr>\n",
       "    <tr>\n",
       "      <th>24</th>\n",
       "      <td>2019-06-30 00:00:00</td>\n",
       "      <td>351</td>\n",
       "      <td>17</td>\n",
       "      <td>143</td>\n",
       "      <td>1</td>\n",
       "      <td>79</td>\n",
       "      <td>56</td>\n",
       "      <td>1</td>\n",
       "      <td>19</td>\n",
       "      <td>5169</td>\n",
       "      <td>10</td>\n",
       "      <td>0.0000</td>\n",
       "      <td>10</td>\n",
       "      <td>10</td>\n",
       "    </tr>\n",
       "    <tr>\n",
       "      <th>25</th>\n",
       "      <td>2019-06-30 00:00:00</td>\n",
       "      <td>351</td>\n",
       "      <td>17</td>\n",
       "      <td>140</td>\n",
       "      <td>1</td>\n",
       "      <td>79</td>\n",
       "      <td>56</td>\n",
       "      <td>1</td>\n",
       "      <td>19</td>\n",
       "      <td>5169</td>\n",
       "      <td>2</td>\n",
       "      <td>0.0000</td>\n",
       "      <td>2</td>\n",
       "      <td>2</td>\n",
       "    </tr>\n",
       "    <tr>\n",
       "      <th>26</th>\n",
       "      <td>2019-06-30 00:00:00</td>\n",
       "      <td>351</td>\n",
       "      <td>17</td>\n",
       "      <td>139</td>\n",
       "      <td>1</td>\n",
       "      <td>79</td>\n",
       "      <td>56</td>\n",
       "      <td>1</td>\n",
       "      <td>19</td>\n",
       "      <td>5169</td>\n",
       "      <td>2</td>\n",
       "      <td>0.0000</td>\n",
       "      <td>2</td>\n",
       "      <td>2</td>\n",
       "    </tr>\n",
       "    <tr>\n",
       "      <th>27</th>\n",
       "      <td>2019-06-30 00:00:00</td>\n",
       "      <td>351</td>\n",
       "      <td>17</td>\n",
       "      <td>129</td>\n",
       "      <td>3</td>\n",
       "      <td>79</td>\n",
       "      <td>59</td>\n",
       "      <td>1</td>\n",
       "      <td>19</td>\n",
       "      <td>5169</td>\n",
       "      <td>2</td>\n",
       "      <td>0.0000</td>\n",
       "      <td>2</td>\n",
       "      <td>2</td>\n",
       "    </tr>\n",
       "    <tr>\n",
       "      <th>28</th>\n",
       "      <td>2019-06-30 00:00:00</td>\n",
       "      <td>351</td>\n",
       "      <td>17</td>\n",
       "      <td>129</td>\n",
       "      <td>2</td>\n",
       "      <td>79</td>\n",
       "      <td>58</td>\n",
       "      <td>1</td>\n",
       "      <td>19</td>\n",
       "      <td>5169</td>\n",
       "      <td>2</td>\n",
       "      <td>0.0000</td>\n",
       "      <td>2</td>\n",
       "      <td>2</td>\n",
       "    </tr>\n",
       "    <tr>\n",
       "      <th>29</th>\n",
       "      <td>2019-06-30 00:00:00</td>\n",
       "      <td>351</td>\n",
       "      <td>17</td>\n",
       "      <td>129</td>\n",
       "      <td>1</td>\n",
       "      <td>79</td>\n",
       "      <td>56</td>\n",
       "      <td>1</td>\n",
       "      <td>19</td>\n",
       "      <td>5169</td>\n",
       "      <td>4</td>\n",
       "      <td>0.0000</td>\n",
       "      <td>4</td>\n",
       "      <td>4</td>\n",
       "    </tr>\n",
       "    <tr>\n",
       "      <th>...</th>\n",
       "      <td>...</td>\n",
       "      <td>...</td>\n",
       "      <td>...</td>\n",
       "      <td>...</td>\n",
       "      <td>...</td>\n",
       "      <td>...</td>\n",
       "      <td>...</td>\n",
       "      <td>...</td>\n",
       "      <td>...</td>\n",
       "      <td>...</td>\n",
       "      <td>...</td>\n",
       "      <td>...</td>\n",
       "      <td>...</td>\n",
       "      <td>...</td>\n",
       "    </tr>\n",
       "    <tr>\n",
       "      <th>567261</th>\n",
       "      <td>2019-06-01 00:00:00</td>\n",
       "      <td>350</td>\n",
       "      <td>10</td>\n",
       "      <td>187</td>\n",
       "      <td>1</td>\n",
       "      <td>2634</td>\n",
       "      <td>56</td>\n",
       "      <td>1</td>\n",
       "      <td>1</td>\n",
       "      <td>5168</td>\n",
       "      <td>98</td>\n",
       "      <td>0.1960</td>\n",
       "      <td>18</td>\n",
       "      <td>98</td>\n",
       "    </tr>\n",
       "    <tr>\n",
       "      <th>567262</th>\n",
       "      <td>2019-06-01 00:00:00</td>\n",
       "      <td>350</td>\n",
       "      <td>10</td>\n",
       "      <td>183</td>\n",
       "      <td>1</td>\n",
       "      <td>2634</td>\n",
       "      <td>56</td>\n",
       "      <td>1</td>\n",
       "      <td>1</td>\n",
       "      <td>5168</td>\n",
       "      <td>120</td>\n",
       "      <td>0.2400</td>\n",
       "      <td>0</td>\n",
       "      <td>120</td>\n",
       "    </tr>\n",
       "    <tr>\n",
       "      <th>567263</th>\n",
       "      <td>2019-06-01 00:00:00</td>\n",
       "      <td>350</td>\n",
       "      <td>10</td>\n",
       "      <td>174</td>\n",
       "      <td>1</td>\n",
       "      <td>2634</td>\n",
       "      <td>56</td>\n",
       "      <td>1</td>\n",
       "      <td>1</td>\n",
       "      <td>5168</td>\n",
       "      <td>2</td>\n",
       "      <td>0.0040</td>\n",
       "      <td>2</td>\n",
       "      <td>2</td>\n",
       "    </tr>\n",
       "    <tr>\n",
       "      <th>567264</th>\n",
       "      <td>2019-06-01 00:00:00</td>\n",
       "      <td>350</td>\n",
       "      <td>10</td>\n",
       "      <td>158</td>\n",
       "      <td>1</td>\n",
       "      <td>2634</td>\n",
       "      <td>56</td>\n",
       "      <td>1</td>\n",
       "      <td>1</td>\n",
       "      <td>5168</td>\n",
       "      <td>2</td>\n",
       "      <td>0.0040</td>\n",
       "      <td>0</td>\n",
       "      <td>2</td>\n",
       "    </tr>\n",
       "    <tr>\n",
       "      <th>567265</th>\n",
       "      <td>2019-06-01 00:00:00</td>\n",
       "      <td>350</td>\n",
       "      <td>10</td>\n",
       "      <td>147</td>\n",
       "      <td>1</td>\n",
       "      <td>2634</td>\n",
       "      <td>56</td>\n",
       "      <td>1</td>\n",
       "      <td>1</td>\n",
       "      <td>5168</td>\n",
       "      <td>22</td>\n",
       "      <td>0.0440</td>\n",
       "      <td>0</td>\n",
       "      <td>22</td>\n",
       "    </tr>\n",
       "    <tr>\n",
       "      <th>567266</th>\n",
       "      <td>2019-06-01 00:00:00</td>\n",
       "      <td>350</td>\n",
       "      <td>10</td>\n",
       "      <td>141</td>\n",
       "      <td>1</td>\n",
       "      <td>2634</td>\n",
       "      <td>56</td>\n",
       "      <td>1</td>\n",
       "      <td>1</td>\n",
       "      <td>5168</td>\n",
       "      <td>20</td>\n",
       "      <td>0.0400</td>\n",
       "      <td>0</td>\n",
       "      <td>20</td>\n",
       "    </tr>\n",
       "    <tr>\n",
       "      <th>567267</th>\n",
       "      <td>2019-06-01 00:00:00</td>\n",
       "      <td>350</td>\n",
       "      <td>10</td>\n",
       "      <td>85</td>\n",
       "      <td>1</td>\n",
       "      <td>2634</td>\n",
       "      <td>56</td>\n",
       "      <td>1</td>\n",
       "      <td>1</td>\n",
       "      <td>5168</td>\n",
       "      <td>4</td>\n",
       "      <td>0.0080</td>\n",
       "      <td>4</td>\n",
       "      <td>4</td>\n",
       "    </tr>\n",
       "    <tr>\n",
       "      <th>567268</th>\n",
       "      <td>2019-06-01 00:00:00</td>\n",
       "      <td>350</td>\n",
       "      <td>10</td>\n",
       "      <td>33</td>\n",
       "      <td>1</td>\n",
       "      <td>2634</td>\n",
       "      <td>56</td>\n",
       "      <td>1</td>\n",
       "      <td>1</td>\n",
       "      <td>5168</td>\n",
       "      <td>8</td>\n",
       "      <td>0.0160</td>\n",
       "      <td>0</td>\n",
       "      <td>8</td>\n",
       "    </tr>\n",
       "    <tr>\n",
       "      <th>567269</th>\n",
       "      <td>2019-06-01 00:00:00</td>\n",
       "      <td>350</td>\n",
       "      <td>10</td>\n",
       "      <td>24</td>\n",
       "      <td>1</td>\n",
       "      <td>2634</td>\n",
       "      <td>56</td>\n",
       "      <td>1</td>\n",
       "      <td>1</td>\n",
       "      <td>5168</td>\n",
       "      <td>22</td>\n",
       "      <td>0.0440</td>\n",
       "      <td>0</td>\n",
       "      <td>22</td>\n",
       "    </tr>\n",
       "    <tr>\n",
       "      <th>567270</th>\n",
       "      <td>2019-06-01 00:00:00</td>\n",
       "      <td>350</td>\n",
       "      <td>10</td>\n",
       "      <td>11</td>\n",
       "      <td>1</td>\n",
       "      <td>2634</td>\n",
       "      <td>56</td>\n",
       "      <td>1</td>\n",
       "      <td>1</td>\n",
       "      <td>5168</td>\n",
       "      <td>20</td>\n",
       "      <td>0.0400</td>\n",
       "      <td>0</td>\n",
       "      <td>20</td>\n",
       "    </tr>\n",
       "    <tr>\n",
       "      <th>567271</th>\n",
       "      <td>2019-06-01 00:00:00</td>\n",
       "      <td>350</td>\n",
       "      <td>10</td>\n",
       "      <td>187</td>\n",
       "      <td>1</td>\n",
       "      <td>139</td>\n",
       "      <td>56</td>\n",
       "      <td>1</td>\n",
       "      <td>19</td>\n",
       "      <td>5168</td>\n",
       "      <td>0</td>\n",
       "      <td>0.0000</td>\n",
       "      <td>0</td>\n",
       "      <td>0</td>\n",
       "    </tr>\n",
       "    <tr>\n",
       "      <th>567272</th>\n",
       "      <td>2019-06-01 00:00:00</td>\n",
       "      <td>350</td>\n",
       "      <td>10</td>\n",
       "      <td>183</td>\n",
       "      <td>1</td>\n",
       "      <td>139</td>\n",
       "      <td>56</td>\n",
       "      <td>1</td>\n",
       "      <td>19</td>\n",
       "      <td>5168</td>\n",
       "      <td>0</td>\n",
       "      <td>0.0000</td>\n",
       "      <td>0</td>\n",
       "      <td>0</td>\n",
       "    </tr>\n",
       "    <tr>\n",
       "      <th>567273</th>\n",
       "      <td>2019-06-01 00:00:00</td>\n",
       "      <td>350</td>\n",
       "      <td>10</td>\n",
       "      <td>174</td>\n",
       "      <td>1</td>\n",
       "      <td>139</td>\n",
       "      <td>56</td>\n",
       "      <td>1</td>\n",
       "      <td>19</td>\n",
       "      <td>5168</td>\n",
       "      <td>0</td>\n",
       "      <td>0.0000</td>\n",
       "      <td>0</td>\n",
       "      <td>0</td>\n",
       "    </tr>\n",
       "    <tr>\n",
       "      <th>567274</th>\n",
       "      <td>2019-06-01 00:00:00</td>\n",
       "      <td>350</td>\n",
       "      <td>10</td>\n",
       "      <td>158</td>\n",
       "      <td>1</td>\n",
       "      <td>139</td>\n",
       "      <td>56</td>\n",
       "      <td>1</td>\n",
       "      <td>19</td>\n",
       "      <td>5168</td>\n",
       "      <td>0</td>\n",
       "      <td>0.0000</td>\n",
       "      <td>0</td>\n",
       "      <td>0</td>\n",
       "    </tr>\n",
       "    <tr>\n",
       "      <th>567275</th>\n",
       "      <td>2019-06-01 00:00:00</td>\n",
       "      <td>350</td>\n",
       "      <td>10</td>\n",
       "      <td>147</td>\n",
       "      <td>1</td>\n",
       "      <td>139</td>\n",
       "      <td>56</td>\n",
       "      <td>1</td>\n",
       "      <td>19</td>\n",
       "      <td>5168</td>\n",
       "      <td>0</td>\n",
       "      <td>0.0000</td>\n",
       "      <td>0</td>\n",
       "      <td>0</td>\n",
       "    </tr>\n",
       "    <tr>\n",
       "      <th>567276</th>\n",
       "      <td>2019-06-01 00:00:00</td>\n",
       "      <td>350</td>\n",
       "      <td>10</td>\n",
       "      <td>141</td>\n",
       "      <td>1</td>\n",
       "      <td>139</td>\n",
       "      <td>56</td>\n",
       "      <td>1</td>\n",
       "      <td>19</td>\n",
       "      <td>5168</td>\n",
       "      <td>0</td>\n",
       "      <td>0.0000</td>\n",
       "      <td>0</td>\n",
       "      <td>0</td>\n",
       "    </tr>\n",
       "    <tr>\n",
       "      <th>567277</th>\n",
       "      <td>2019-06-01 00:00:00</td>\n",
       "      <td>350</td>\n",
       "      <td>10</td>\n",
       "      <td>85</td>\n",
       "      <td>1</td>\n",
       "      <td>139</td>\n",
       "      <td>56</td>\n",
       "      <td>1</td>\n",
       "      <td>19</td>\n",
       "      <td>5168</td>\n",
       "      <td>0</td>\n",
       "      <td>0.0000</td>\n",
       "      <td>0</td>\n",
       "      <td>0</td>\n",
       "    </tr>\n",
       "    <tr>\n",
       "      <th>567278</th>\n",
       "      <td>2019-06-01 00:00:00</td>\n",
       "      <td>350</td>\n",
       "      <td>10</td>\n",
       "      <td>37</td>\n",
       "      <td>1</td>\n",
       "      <td>139</td>\n",
       "      <td>56</td>\n",
       "      <td>1</td>\n",
       "      <td>19</td>\n",
       "      <td>5168</td>\n",
       "      <td>0</td>\n",
       "      <td>0.0000</td>\n",
       "      <td>0</td>\n",
       "      <td>0</td>\n",
       "    </tr>\n",
       "    <tr>\n",
       "      <th>567279</th>\n",
       "      <td>2019-06-01 00:00:00</td>\n",
       "      <td>350</td>\n",
       "      <td>10</td>\n",
       "      <td>33</td>\n",
       "      <td>1</td>\n",
       "      <td>139</td>\n",
       "      <td>56</td>\n",
       "      <td>1</td>\n",
       "      <td>19</td>\n",
       "      <td>5168</td>\n",
       "      <td>0</td>\n",
       "      <td>0.0000</td>\n",
       "      <td>0</td>\n",
       "      <td>0</td>\n",
       "    </tr>\n",
       "    <tr>\n",
       "      <th>567280</th>\n",
       "      <td>2019-06-01 00:00:00</td>\n",
       "      <td>350</td>\n",
       "      <td>10</td>\n",
       "      <td>24</td>\n",
       "      <td>1</td>\n",
       "      <td>139</td>\n",
       "      <td>56</td>\n",
       "      <td>1</td>\n",
       "      <td>19</td>\n",
       "      <td>5168</td>\n",
       "      <td>0</td>\n",
       "      <td>0.0000</td>\n",
       "      <td>0</td>\n",
       "      <td>0</td>\n",
       "    </tr>\n",
       "    <tr>\n",
       "      <th>567281</th>\n",
       "      <td>2019-06-01 00:00:00</td>\n",
       "      <td>350</td>\n",
       "      <td>10</td>\n",
       "      <td>11</td>\n",
       "      <td>1</td>\n",
       "      <td>139</td>\n",
       "      <td>56</td>\n",
       "      <td>1</td>\n",
       "      <td>19</td>\n",
       "      <td>5168</td>\n",
       "      <td>0</td>\n",
       "      <td>0.0000</td>\n",
       "      <td>0</td>\n",
       "      <td>0</td>\n",
       "    </tr>\n",
       "    <tr>\n",
       "      <th>567282</th>\n",
       "      <td>2019-06-01 00:00:00</td>\n",
       "      <td>350</td>\n",
       "      <td>10</td>\n",
       "      <td>187</td>\n",
       "      <td>3</td>\n",
       "      <td>79</td>\n",
       "      <td>59</td>\n",
       "      <td>1</td>\n",
       "      <td>19</td>\n",
       "      <td>5168</td>\n",
       "      <td>12</td>\n",
       "      <td>0.0000</td>\n",
       "      <td>2</td>\n",
       "      <td>12</td>\n",
       "    </tr>\n",
       "    <tr>\n",
       "      <th>567283</th>\n",
       "      <td>2019-06-01 00:00:00</td>\n",
       "      <td>350</td>\n",
       "      <td>10</td>\n",
       "      <td>187</td>\n",
       "      <td>1</td>\n",
       "      <td>79</td>\n",
       "      <td>56</td>\n",
       "      <td>1</td>\n",
       "      <td>19</td>\n",
       "      <td>5168</td>\n",
       "      <td>52</td>\n",
       "      <td>0.0000</td>\n",
       "      <td>32</td>\n",
       "      <td>50</td>\n",
       "    </tr>\n",
       "    <tr>\n",
       "      <th>567284</th>\n",
       "      <td>2019-06-01 00:00:00</td>\n",
       "      <td>350</td>\n",
       "      <td>10</td>\n",
       "      <td>33</td>\n",
       "      <td>1</td>\n",
       "      <td>79</td>\n",
       "      <td>56</td>\n",
       "      <td>1</td>\n",
       "      <td>19</td>\n",
       "      <td>5168</td>\n",
       "      <td>20</td>\n",
       "      <td>0.0050</td>\n",
       "      <td>4</td>\n",
       "      <td>20</td>\n",
       "    </tr>\n",
       "    <tr>\n",
       "      <th>567285</th>\n",
       "      <td>2019-06-01 00:00:00</td>\n",
       "      <td>350</td>\n",
       "      <td>10</td>\n",
       "      <td>11</td>\n",
       "      <td>1</td>\n",
       "      <td>79</td>\n",
       "      <td>56</td>\n",
       "      <td>1</td>\n",
       "      <td>19</td>\n",
       "      <td>5168</td>\n",
       "      <td>2</td>\n",
       "      <td>0.0000</td>\n",
       "      <td>2</td>\n",
       "      <td>2</td>\n",
       "    </tr>\n",
       "    <tr>\n",
       "      <th>567286</th>\n",
       "      <td>2019-06-01 00:00:00</td>\n",
       "      <td>350</td>\n",
       "      <td>10</td>\n",
       "      <td>187</td>\n",
       "      <td>3</td>\n",
       "      <td>79</td>\n",
       "      <td>59</td>\n",
       "      <td>1</td>\n",
       "      <td>19</td>\n",
       "      <td>5168</td>\n",
       "      <td>12</td>\n",
       "      <td>0.0254</td>\n",
       "      <td>4</td>\n",
       "      <td>12</td>\n",
       "    </tr>\n",
       "    <tr>\n",
       "      <th>567287</th>\n",
       "      <td>2019-06-01 00:00:00</td>\n",
       "      <td>350</td>\n",
       "      <td>10</td>\n",
       "      <td>187</td>\n",
       "      <td>1</td>\n",
       "      <td>79</td>\n",
       "      <td>56</td>\n",
       "      <td>1</td>\n",
       "      <td>19</td>\n",
       "      <td>5168</td>\n",
       "      <td>68</td>\n",
       "      <td>0.3400</td>\n",
       "      <td>52</td>\n",
       "      <td>66</td>\n",
       "    </tr>\n",
       "    <tr>\n",
       "      <th>567288</th>\n",
       "      <td>2019-06-01 00:00:00</td>\n",
       "      <td>350</td>\n",
       "      <td>10</td>\n",
       "      <td>158</td>\n",
       "      <td>1</td>\n",
       "      <td>79</td>\n",
       "      <td>56</td>\n",
       "      <td>1</td>\n",
       "      <td>19</td>\n",
       "      <td>5168</td>\n",
       "      <td>2</td>\n",
       "      <td>0.0046</td>\n",
       "      <td>0</td>\n",
       "      <td>2</td>\n",
       "    </tr>\n",
       "    <tr>\n",
       "      <th>567289</th>\n",
       "      <td>2019-06-01 00:00:00</td>\n",
       "      <td>350</td>\n",
       "      <td>10</td>\n",
       "      <td>33</td>\n",
       "      <td>1</td>\n",
       "      <td>79</td>\n",
       "      <td>56</td>\n",
       "      <td>1</td>\n",
       "      <td>19</td>\n",
       "      <td>5168</td>\n",
       "      <td>6</td>\n",
       "      <td>0.0120</td>\n",
       "      <td>0</td>\n",
       "      <td>6</td>\n",
       "    </tr>\n",
       "    <tr>\n",
       "      <th>567290</th>\n",
       "      <td>2019-06-01 00:00:00</td>\n",
       "      <td>350</td>\n",
       "      <td>10</td>\n",
       "      <td>11</td>\n",
       "      <td>1</td>\n",
       "      <td>79</td>\n",
       "      <td>56</td>\n",
       "      <td>1</td>\n",
       "      <td>19</td>\n",
       "      <td>5168</td>\n",
       "      <td>12</td>\n",
       "      <td>0.0240</td>\n",
       "      <td>12</td>\n",
       "      <td>12</td>\n",
       "    </tr>\n",
       "  </tbody>\n",
       "</table>\n",
       "<p>567291 rows × 14 columns</p>\n",
       "</div>"
      ],
      "text/plain": [
       "                       date  site_id  ad_type_id  geo_id  device_category_id  \\\n",
       "0       2019-06-30 00:00:00      351          10     187                   2   \n",
       "1       2019-06-30 00:00:00      351          10     187                   2   \n",
       "2       2019-06-30 00:00:00      351          10     147                   2   \n",
       "3       2019-06-30 00:00:00      351          10     147                   2   \n",
       "4       2019-06-30 00:00:00      348          10     147                   3   \n",
       "5       2019-06-30 00:00:00      348          10     147                   3   \n",
       "6       2019-06-30 00:00:00      351          17     191                   1   \n",
       "7       2019-06-30 00:00:00      351          17     187                   5   \n",
       "8       2019-06-30 00:00:00      351          17     187                   3   \n",
       "9       2019-06-30 00:00:00      351          17     187                   3   \n",
       "10      2019-06-30 00:00:00      351          17     187                   2   \n",
       "11      2019-06-30 00:00:00      351          17     187                   2   \n",
       "12      2019-06-30 00:00:00      351          17     187                   1   \n",
       "13      2019-06-30 00:00:00      351          17     183                   3   \n",
       "14      2019-06-30 00:00:00      351          17     183                   3   \n",
       "15      2019-06-30 00:00:00      351          17     183                   2   \n",
       "16      2019-06-30 00:00:00      351          17     183                   2   \n",
       "17      2019-06-30 00:00:00      351          17     183                   1   \n",
       "18      2019-06-30 00:00:00      351          17     176                   1   \n",
       "19      2019-06-30 00:00:00      351          17     163                   2   \n",
       "20      2019-06-30 00:00:00      351          17     163                   1   \n",
       "21      2019-06-30 00:00:00      351          17     147                   1   \n",
       "22      2019-06-30 00:00:00      351          17     146                   2   \n",
       "23      2019-06-30 00:00:00      351          17     146                   1   \n",
       "24      2019-06-30 00:00:00      351          17     143                   1   \n",
       "25      2019-06-30 00:00:00      351          17     140                   1   \n",
       "26      2019-06-30 00:00:00      351          17     139                   1   \n",
       "27      2019-06-30 00:00:00      351          17     129                   3   \n",
       "28      2019-06-30 00:00:00      351          17     129                   2   \n",
       "29      2019-06-30 00:00:00      351          17     129                   1   \n",
       "...                     ...      ...         ...     ...                 ...   \n",
       "567261  2019-06-01 00:00:00      350          10     187                   1   \n",
       "567262  2019-06-01 00:00:00      350          10     183                   1   \n",
       "567263  2019-06-01 00:00:00      350          10     174                   1   \n",
       "567264  2019-06-01 00:00:00      350          10     158                   1   \n",
       "567265  2019-06-01 00:00:00      350          10     147                   1   \n",
       "567266  2019-06-01 00:00:00      350          10     141                   1   \n",
       "567267  2019-06-01 00:00:00      350          10      85                   1   \n",
       "567268  2019-06-01 00:00:00      350          10      33                   1   \n",
       "567269  2019-06-01 00:00:00      350          10      24                   1   \n",
       "567270  2019-06-01 00:00:00      350          10      11                   1   \n",
       "567271  2019-06-01 00:00:00      350          10     187                   1   \n",
       "567272  2019-06-01 00:00:00      350          10     183                   1   \n",
       "567273  2019-06-01 00:00:00      350          10     174                   1   \n",
       "567274  2019-06-01 00:00:00      350          10     158                   1   \n",
       "567275  2019-06-01 00:00:00      350          10     147                   1   \n",
       "567276  2019-06-01 00:00:00      350          10     141                   1   \n",
       "567277  2019-06-01 00:00:00      350          10      85                   1   \n",
       "567278  2019-06-01 00:00:00      350          10      37                   1   \n",
       "567279  2019-06-01 00:00:00      350          10      33                   1   \n",
       "567280  2019-06-01 00:00:00      350          10      24                   1   \n",
       "567281  2019-06-01 00:00:00      350          10      11                   1   \n",
       "567282  2019-06-01 00:00:00      350          10     187                   3   \n",
       "567283  2019-06-01 00:00:00      350          10     187                   1   \n",
       "567284  2019-06-01 00:00:00      350          10      33                   1   \n",
       "567285  2019-06-01 00:00:00      350          10      11                   1   \n",
       "567286  2019-06-01 00:00:00      350          10     187                   3   \n",
       "567287  2019-06-01 00:00:00      350          10     187                   1   \n",
       "567288  2019-06-01 00:00:00      350          10     158                   1   \n",
       "567289  2019-06-01 00:00:00      350          10      33                   1   \n",
       "567290  2019-06-01 00:00:00      350          10      11                   1   \n",
       "\n",
       "        advertiser_id  os_id  integration_type_id  monetization_channel_id  \\\n",
       "0                  84     60                    1                        4   \n",
       "1                  84     58                    1                        4   \n",
       "2                  84     60                    1                        4   \n",
       "3                  84     58                    1                        4   \n",
       "4                  79     59                    1                       19   \n",
       "5                  79     59                    1                       19   \n",
       "6                  79     56                    1                       19   \n",
       "7                  79     56                    1                       19   \n",
       "8                  79     59                    1                       19   \n",
       "9                  79     55                    1                       19   \n",
       "10                 79     60                    1                       19   \n",
       "11                 79     58                    1                       19   \n",
       "12                 79     56                    1                       19   \n",
       "13                 79     59                    1                       19   \n",
       "14                 79     55                    1                       19   \n",
       "15                 79     60                    1                       19   \n",
       "16                 79     58                    1                       19   \n",
       "17                 79     56                    1                       19   \n",
       "18                 79     56                    1                       19   \n",
       "19                 79     58                    1                       19   \n",
       "20                 79     56                    1                       19   \n",
       "21                 79     56                    1                       19   \n",
       "22                 79     58                    1                       19   \n",
       "23                 79     56                    1                       19   \n",
       "24                 79     56                    1                       19   \n",
       "25                 79     56                    1                       19   \n",
       "26                 79     56                    1                       19   \n",
       "27                 79     59                    1                       19   \n",
       "28                 79     58                    1                       19   \n",
       "29                 79     56                    1                       19   \n",
       "...               ...    ...                  ...                      ...   \n",
       "567261           2634     56                    1                        1   \n",
       "567262           2634     56                    1                        1   \n",
       "567263           2634     56                    1                        1   \n",
       "567264           2634     56                    1                        1   \n",
       "567265           2634     56                    1                        1   \n",
       "567266           2634     56                    1                        1   \n",
       "567267           2634     56                    1                        1   \n",
       "567268           2634     56                    1                        1   \n",
       "567269           2634     56                    1                        1   \n",
       "567270           2634     56                    1                        1   \n",
       "567271            139     56                    1                       19   \n",
       "567272            139     56                    1                       19   \n",
       "567273            139     56                    1                       19   \n",
       "567274            139     56                    1                       19   \n",
       "567275            139     56                    1                       19   \n",
       "567276            139     56                    1                       19   \n",
       "567277            139     56                    1                       19   \n",
       "567278            139     56                    1                       19   \n",
       "567279            139     56                    1                       19   \n",
       "567280            139     56                    1                       19   \n",
       "567281            139     56                    1                       19   \n",
       "567282             79     59                    1                       19   \n",
       "567283             79     56                    1                       19   \n",
       "567284             79     56                    1                       19   \n",
       "567285             79     56                    1                       19   \n",
       "567286             79     59                    1                       19   \n",
       "567287             79     56                    1                       19   \n",
       "567288             79     56                    1                       19   \n",
       "567289             79     56                    1                       19   \n",
       "567290             79     56                    1                       19   \n",
       "\n",
       "        ad_unit_id  total_impressions  total_revenue  viewable_impressions  \\\n",
       "0             5174                 16         0.0000                     2   \n",
       "1             5174                  6         0.0000                     0   \n",
       "2             5174                  4         0.0000                     0   \n",
       "3             5174                  4         0.0000                     0   \n",
       "4             5138                  4         0.0000                     0   \n",
       "5             5144                  2         0.0000                     0   \n",
       "6             5169                  2         0.0000                     2   \n",
       "7             5169                  2         0.0000                     2   \n",
       "8             5169                 80         0.0000                    80   \n",
       "9             5169                 92         0.0000                    92   \n",
       "10            5169                766         0.0000                   756   \n",
       "11            5169                638         0.0000                   628   \n",
       "12            5169               1728         0.0000                  1714   \n",
       "13            5169                  4         0.0000                     4   \n",
       "14            5169                  4         0.0000                     4   \n",
       "15            5169                 10         0.0000                    10   \n",
       "16            5169                  8         0.0000                     8   \n",
       "17            5169                 42         0.0000                    42   \n",
       "18            5169                  4         0.0000                     4   \n",
       "19            5169                  2         0.0000                     2   \n",
       "20            5169                  2         0.0000                     2   \n",
       "21            5169                  2         0.0000                     2   \n",
       "22            5169                  2         0.0000                     2   \n",
       "23            5169                  2         0.0000                     2   \n",
       "24            5169                 10         0.0000                    10   \n",
       "25            5169                  2         0.0000                     2   \n",
       "26            5169                  2         0.0000                     2   \n",
       "27            5169                  2         0.0000                     2   \n",
       "28            5169                  2         0.0000                     2   \n",
       "29            5169                  4         0.0000                     4   \n",
       "...            ...                ...            ...                   ...   \n",
       "567261        5168                 98         0.1960                    18   \n",
       "567262        5168                120         0.2400                     0   \n",
       "567263        5168                  2         0.0040                     2   \n",
       "567264        5168                  2         0.0040                     0   \n",
       "567265        5168                 22         0.0440                     0   \n",
       "567266        5168                 20         0.0400                     0   \n",
       "567267        5168                  4         0.0080                     4   \n",
       "567268        5168                  8         0.0160                     0   \n",
       "567269        5168                 22         0.0440                     0   \n",
       "567270        5168                 20         0.0400                     0   \n",
       "567271        5168                  0         0.0000                     0   \n",
       "567272        5168                  0         0.0000                     0   \n",
       "567273        5168                  0         0.0000                     0   \n",
       "567274        5168                  0         0.0000                     0   \n",
       "567275        5168                  0         0.0000                     0   \n",
       "567276        5168                  0         0.0000                     0   \n",
       "567277        5168                  0         0.0000                     0   \n",
       "567278        5168                  0         0.0000                     0   \n",
       "567279        5168                  0         0.0000                     0   \n",
       "567280        5168                  0         0.0000                     0   \n",
       "567281        5168                  0         0.0000                     0   \n",
       "567282        5168                 12         0.0000                     2   \n",
       "567283        5168                 52         0.0000                    32   \n",
       "567284        5168                 20         0.0050                     4   \n",
       "567285        5168                  2         0.0000                     2   \n",
       "567286        5168                 12         0.0254                     4   \n",
       "567287        5168                 68         0.3400                    52   \n",
       "567288        5168                  2         0.0046                     0   \n",
       "567289        5168                  6         0.0120                     0   \n",
       "567290        5168                 12         0.0240                    12   \n",
       "\n",
       "        measurable_impressions  \n",
       "0                           16  \n",
       "1                            6  \n",
       "2                            4  \n",
       "3                            4  \n",
       "4                            4  \n",
       "5                            2  \n",
       "6                            2  \n",
       "7                            2  \n",
       "8                           80  \n",
       "9                           92  \n",
       "10                         764  \n",
       "11                         638  \n",
       "12                        1728  \n",
       "13                           4  \n",
       "14                           4  \n",
       "15                          10  \n",
       "16                           8  \n",
       "17                          42  \n",
       "18                           4  \n",
       "19                           2  \n",
       "20                           2  \n",
       "21                           2  \n",
       "22                           2  \n",
       "23                           2  \n",
       "24                          10  \n",
       "25                           2  \n",
       "26                           2  \n",
       "27                           2  \n",
       "28                           2  \n",
       "29                           4  \n",
       "...                        ...  \n",
       "567261                      98  \n",
       "567262                     120  \n",
       "567263                       2  \n",
       "567264                       2  \n",
       "567265                      22  \n",
       "567266                      20  \n",
       "567267                       4  \n",
       "567268                       8  \n",
       "567269                      22  \n",
       "567270                      20  \n",
       "567271                       0  \n",
       "567272                       0  \n",
       "567273                       0  \n",
       "567274                       0  \n",
       "567275                       0  \n",
       "567276                       0  \n",
       "567277                       0  \n",
       "567278                       0  \n",
       "567279                       0  \n",
       "567280                       0  \n",
       "567281                       0  \n",
       "567282                      12  \n",
       "567283                      50  \n",
       "567284                      20  \n",
       "567285                       2  \n",
       "567286                      12  \n",
       "567287                      66  \n",
       "567288                       2  \n",
       "567289                       6  \n",
       "567290                      12  \n",
       "\n",
       "[567291 rows x 14 columns]"
      ]
     },
     "execution_count": 5,
     "metadata": {},
     "output_type": "execute_result"
    }
   ],
   "source": [
    "data.drop(columns=['revenue_share_percent', 'order_id', 'line_item_type_id'])"
   ]
  },
  {
   "cell_type": "code",
   "execution_count": 6,
   "metadata": {},
   "outputs": [
    {
     "data": {
      "text/plain": [
       "date                          30\n",
       "site_id                       10\n",
       "ad_type_id                     2\n",
       "geo_id                       219\n",
       "device_category_id             5\n",
       "advertiser_id                 23\n",
       "order_id                      75\n",
       "line_item_type_id              7\n",
       "os_id                          7\n",
       "integration_type_id            1\n",
       "monetization_channel_id        5\n",
       "ad_unit_id                   132\n",
       "total_impressions           1979\n",
       "total_revenue              10099\n",
       "viewable_impressions        1159\n",
       "measurable_impressions      1884\n",
       "revenue_share_percent          1\n",
       "dtype: int64"
      ]
     },
     "execution_count": 6,
     "metadata": {},
     "output_type": "execute_result"
    }
   ],
   "source": [
    "data.nunique()"
   ]
  },
  {
   "cell_type": "code",
   "execution_count": 7,
   "metadata": {},
   "outputs": [
    {
     "data": {
      "image/png": "[encoded data removed]",
      "text/plain": [
       "<Figure size 792x648 with 2 Axes>"
      ]
     },
     "metadata": {},
     "output_type": "display_data"
    }
   ],
   "source": [
    "sns.set(style=\"white\")\n",
    "\n",
    "# Computing the correlation matrix\n",
    "corr = data.corr()\n",
    "\n",
    "f, ax = plt.subplots(figsize=(11, 9))\n",
    "\n",
    "cmap = sns.diverging_palette(220, 10, as_cmap=True)\n",
    "\n",
    "sns.heatmap(corr, cmap=cmap, vmax=.3, center=0,\n",
    "            square=True, linewidths=.5, cbar_kws={\"shrink\": .5})\n",
    "\n",
    "plt.show()"
   ]
  },
  {
   "cell_type": "markdown",
   "metadata": {},
   "source": [
    "- For a single website, the ad-slots varies based on the device type as the desktop, mobile or tab versions. So every ad-slot across platforms shall have a unique bid price. But the reserve price varies on the ad-type as it was calculated based on the total impressions rather that the mode of impression, so all such ads can have a common reserve value, where they were bid independantly, 'given same size'.\n",
    "* So the device_category_id shall affect the bid value as the size of the ad-slot will be varied accross devices for a simple banner ad.\n",
    "\n",
    "\n",
    "- It can be seen that the ad-slots were bid based on the location, unless we classify the visitors based on his location, it would be tough to realize that. Tthough the advertisers bid seperately for different locations, Location won't affect the reserve value as he will be charged based on the impressions\n",
    "* So, the geo_id can be dropped."
   ]
  },
  {
   "cell_type": "code",
   "execution_count": 8,
   "metadata": {},
   "outputs": [],
   "source": [
    "del data['revenue_share_percent']\n",
    "del data['order_id']\n",
    "del data['line_item_type_id']\n",
    "del data['geo_id']\n",
    "del data['os_id']"
   ]
  },
  {
   "cell_type": "code",
   "execution_count": 9,
   "metadata": {},
   "outputs": [
    {
     "data": {
      "text/html": [
       "<div>\n",
       "<style scoped>\n",
       "    .dataframe tbody tr th:only-of-type {\n",
       "        vertical-align: middle;\n",
       "    }\n",
       "\n",
       "    .dataframe tbody tr th {\n",
       "        vertical-align: top;\n",
       "    }\n",
       "\n",
       "    .dataframe thead th {\n",
       "        text-align: right;\n",
       "    }\n",
       "</style>\n",
       "<table border=\"1\" class=\"dataframe\">\n",
       "  <thead>\n",
       "    <tr style=\"text-align: right;\">\n",
       "      <th></th>\n",
       "      <th>date</th>\n",
       "      <th>site_id</th>\n",
       "      <th>ad_type_id</th>\n",
       "      <th>device_category_id</th>\n",
       "      <th>advertiser_id</th>\n",
       "      <th>integration_type_id</th>\n",
       "      <th>monetization_channel_id</th>\n",
       "      <th>ad_unit_id</th>\n",
       "      <th>total_impressions</th>\n",
       "      <th>total_revenue</th>\n",
       "      <th>viewable_impressions</th>\n",
       "      <th>measurable_impressions</th>\n",
       "    </tr>\n",
       "  </thead>\n",
       "  <tbody>\n",
       "    <tr>\n",
       "      <th>0</th>\n",
       "      <td>2019-06-30 00:00:00</td>\n",
       "      <td>351</td>\n",
       "      <td>10</td>\n",
       "      <td>2</td>\n",
       "      <td>84</td>\n",
       "      <td>1</td>\n",
       "      <td>4</td>\n",
       "      <td>5174</td>\n",
       "      <td>16</td>\n",
       "      <td>0.0</td>\n",
       "      <td>2</td>\n",
       "      <td>16</td>\n",
       "    </tr>\n",
       "    <tr>\n",
       "      <th>1</th>\n",
       "      <td>2019-06-30 00:00:00</td>\n",
       "      <td>351</td>\n",
       "      <td>10</td>\n",
       "      <td>2</td>\n",
       "      <td>84</td>\n",
       "      <td>1</td>\n",
       "      <td>4</td>\n",
       "      <td>5174</td>\n",
       "      <td>6</td>\n",
       "      <td>0.0</td>\n",
       "      <td>0</td>\n",
       "      <td>6</td>\n",
       "    </tr>\n",
       "    <tr>\n",
       "      <th>2</th>\n",
       "      <td>2019-06-30 00:00:00</td>\n",
       "      <td>351</td>\n",
       "      <td>10</td>\n",
       "      <td>2</td>\n",
       "      <td>84</td>\n",
       "      <td>1</td>\n",
       "      <td>4</td>\n",
       "      <td>5174</td>\n",
       "      <td>4</td>\n",
       "      <td>0.0</td>\n",
       "      <td>0</td>\n",
       "      <td>4</td>\n",
       "    </tr>\n",
       "    <tr>\n",
       "      <th>3</th>\n",
       "      <td>2019-06-30 00:00:00</td>\n",
       "      <td>351</td>\n",
       "      <td>10</td>\n",
       "      <td>2</td>\n",
       "      <td>84</td>\n",
       "      <td>1</td>\n",
       "      <td>4</td>\n",
       "      <td>5174</td>\n",
       "      <td>4</td>\n",
       "      <td>0.0</td>\n",
       "      <td>0</td>\n",
       "      <td>4</td>\n",
       "    </tr>\n",
       "    <tr>\n",
       "      <th>4</th>\n",
       "      <td>2019-06-30 00:00:00</td>\n",
       "      <td>348</td>\n",
       "      <td>10</td>\n",
       "      <td>3</td>\n",
       "      <td>79</td>\n",
       "      <td>1</td>\n",
       "      <td>19</td>\n",
       "      <td>5138</td>\n",
       "      <td>4</td>\n",
       "      <td>0.0</td>\n",
       "      <td>0</td>\n",
       "      <td>4</td>\n",
       "    </tr>\n",
       "  </tbody>\n",
       "</table>\n",
       "</div>"
      ],
      "text/plain": [
       "                  date  site_id  ad_type_id  device_category_id  \\\n",
       "0  2019-06-30 00:00:00      351          10                   2   \n",
       "1  2019-06-30 00:00:00      351          10                   2   \n",
       "2  2019-06-30 00:00:00      351          10                   2   \n",
       "3  2019-06-30 00:00:00      351          10                   2   \n",
       "4  2019-06-30 00:00:00      348          10                   3   \n",
       "\n",
       "   advertiser_id  integration_type_id  monetization_channel_id  ad_unit_id  \\\n",
       "0             84                    1                        4        5174   \n",
       "1             84                    1                        4        5174   \n",
       "2             84                    1                        4        5174   \n",
       "3             84                    1                        4        5174   \n",
       "4             79                    1                       19        5138   \n",
       "\n",
       "   total_impressions  total_revenue  viewable_impressions  \\\n",
       "0                 16            0.0                     2   \n",
       "1                  6            0.0                     0   \n",
       "2                  4            0.0                     0   \n",
       "3                  4            0.0                     0   \n",
       "4                  4            0.0                     0   \n",
       "\n",
       "   measurable_impressions  \n",
       "0                      16  \n",
       "1                       6  \n",
       "2                       4  \n",
       "3                       4  \n",
       "4                       4  "
      ]
     },
     "execution_count": 9,
     "metadata": {},
     "output_type": "execute_result"
    }
   ],
   "source": [
    "data.head()"
   ]
  },
  {
   "cell_type": "code",
   "execution_count": 10,
   "metadata": {
    "scrolled": false
   },
   "outputs": [
    {
     "name": "stdout",
     "output_type": "stream",
     "text": [
      "39563.11919999998\n"
     ]
    }
   ],
   "source": [
    "# Total revenue generated in June\n",
    "\n",
    "Revenue_june = data['total_revenue'].sum()\n",
    "print (Revenue_june)"
   ]
  },
  {
   "cell_type": "code",
   "execution_count": 11,
   "metadata": {},
   "outputs": [
    {
     "data": {
      "image/png": "[encoded data removed]",
      "text/plain": [
       "<Figure size 432x288 with 1 Axes>"
      ]
     },
     "metadata": {},
     "output_type": "display_data"
    }
   ],
   "source": [
    "df = data[data['total_revenue'] > 1]\n",
    "sns.distplot(df['total_revenue'],\n",
    "             color = 'red')\n",
    "plt.title('Distribution of Revenue_june')\n",
    "plt.show()"
   ]
  },
  {
   "cell_type": "code",
   "execution_count": 12,
   "metadata": {},
   "outputs": [
    {
     "name": "stdout",
     "output_type": "stream",
     "text": [
      "0.002169030182230222\n"
     ]
    }
   ],
   "source": [
    "# Revenue generated in june per impression\n",
    "\n",
    "total_imp = data['measurable_impressions'].sum()\n",
    "Rev_june_perimp = Revenue_june/total_imp\n",
    "print (Rev_june_perimp)\n"
   ]
  },
  {
   "cell_type": "code",
   "execution_count": 13,
   "metadata": {},
   "outputs": [
    {
     "data": {
      "text/plain": [
       "2.169030182230222"
      ]
     },
     "execution_count": 13,
     "metadata": {},
     "output_type": "execute_result"
    }
   ],
   "source": [
    "# Average CPM for june\n",
    "\n",
    "CPM_june = Rev_june_perimp*1000\n",
    "CPM_june"
   ]
  },
  {
   "cell_type": "code",
   "execution_count": 18,
   "metadata": {},
   "outputs": [
    {
     "data": {
      "text/html": [
       "<div>\n",
       "<style scoped>\n",
       "    .dataframe tbody tr th:only-of-type {\n",
       "        vertical-align: middle;\n",
       "    }\n",
       "\n",
       "    .dataframe tbody tr th {\n",
       "        vertical-align: top;\n",
       "    }\n",
       "\n",
       "    .dataframe thead th {\n",
       "        text-align: right;\n",
       "    }\n",
       "</style>\n",
       "<table border=\"1\" class=\"dataframe\">\n",
       "  <thead>\n",
       "    <tr style=\"text-align: right;\">\n",
       "      <th></th>\n",
       "      <th>date</th>\n",
       "      <th>site_id</th>\n",
       "      <th>ad_type_id</th>\n",
       "      <th>device_category_id</th>\n",
       "      <th>advertiser_id</th>\n",
       "      <th>integration_type_id</th>\n",
       "      <th>monetization_channel_id</th>\n",
       "      <th>ad_unit_id</th>\n",
       "      <th>total_impressions</th>\n",
       "      <th>total_revenue</th>\n",
       "      <th>viewable_impressions</th>\n",
       "      <th>measurable_impressions</th>\n",
       "      <th>CPM</th>\n",
       "    </tr>\n",
       "  </thead>\n",
       "  <tbody>\n",
       "    <tr>\n",
       "      <th>0</th>\n",
       "      <td>2019-06-30 00:00:00</td>\n",
       "      <td>351</td>\n",
       "      <td>10</td>\n",
       "      <td>2</td>\n",
       "      <td>84</td>\n",
       "      <td>1</td>\n",
       "      <td>4</td>\n",
       "      <td>5174</td>\n",
       "      <td>16</td>\n",
       "      <td>0.0</td>\n",
       "      <td>2</td>\n",
       "      <td>16</td>\n",
       "      <td>0.0</td>\n",
       "    </tr>\n",
       "    <tr>\n",
       "      <th>1</th>\n",
       "      <td>2019-06-30 00:00:00</td>\n",
       "      <td>351</td>\n",
       "      <td>10</td>\n",
       "      <td>2</td>\n",
       "      <td>84</td>\n",
       "      <td>1</td>\n",
       "      <td>4</td>\n",
       "      <td>5174</td>\n",
       "      <td>6</td>\n",
       "      <td>0.0</td>\n",
       "      <td>0</td>\n",
       "      <td>6</td>\n",
       "      <td>0.0</td>\n",
       "    </tr>\n",
       "    <tr>\n",
       "      <th>2</th>\n",
       "      <td>2019-06-30 00:00:00</td>\n",
       "      <td>351</td>\n",
       "      <td>10</td>\n",
       "      <td>2</td>\n",
       "      <td>84</td>\n",
       "      <td>1</td>\n",
       "      <td>4</td>\n",
       "      <td>5174</td>\n",
       "      <td>4</td>\n",
       "      <td>0.0</td>\n",
       "      <td>0</td>\n",
       "      <td>4</td>\n",
       "      <td>0.0</td>\n",
       "    </tr>\n",
       "    <tr>\n",
       "      <th>3</th>\n",
       "      <td>2019-06-30 00:00:00</td>\n",
       "      <td>351</td>\n",
       "      <td>10</td>\n",
       "      <td>2</td>\n",
       "      <td>84</td>\n",
       "      <td>1</td>\n",
       "      <td>4</td>\n",
       "      <td>5174</td>\n",
       "      <td>4</td>\n",
       "      <td>0.0</td>\n",
       "      <td>0</td>\n",
       "      <td>4</td>\n",
       "      <td>0.0</td>\n",
       "    </tr>\n",
       "    <tr>\n",
       "      <th>4</th>\n",
       "      <td>2019-06-30 00:00:00</td>\n",
       "      <td>348</td>\n",
       "      <td>10</td>\n",
       "      <td>3</td>\n",
       "      <td>79</td>\n",
       "      <td>1</td>\n",
       "      <td>19</td>\n",
       "      <td>5138</td>\n",
       "      <td>4</td>\n",
       "      <td>0.0</td>\n",
       "      <td>0</td>\n",
       "      <td>4</td>\n",
       "      <td>0.0</td>\n",
       "    </tr>\n",
       "  </tbody>\n",
       "</table>\n",
       "</div>"
      ],
      "text/plain": [
       "                  date  site_id  ad_type_id  device_category_id  \\\n",
       "0  2019-06-30 00:00:00      351          10                   2   \n",
       "1  2019-06-30 00:00:00      351          10                   2   \n",
       "2  2019-06-30 00:00:00      351          10                   2   \n",
       "3  2019-06-30 00:00:00      351          10                   2   \n",
       "4  2019-06-30 00:00:00      348          10                   3   \n",
       "\n",
       "   advertiser_id  integration_type_id  monetization_channel_id  ad_unit_id  \\\n",
       "0             84                    1                        4        5174   \n",
       "1             84                    1                        4        5174   \n",
       "2             84                    1                        4        5174   \n",
       "3             84                    1                        4        5174   \n",
       "4             79                    1                       19        5138   \n",
       "\n",
       "   total_impressions  total_revenue  viewable_impressions  \\\n",
       "0                 16            0.0                     2   \n",
       "1                  6            0.0                     0   \n",
       "2                  4            0.0                     0   \n",
       "3                  4            0.0                     0   \n",
       "4                  4            0.0                     0   \n",
       "\n",
       "   measurable_impressions  CPM  \n",
       "0                      16  0.0  \n",
       "1                       6  0.0  \n",
       "2                       4  0.0  \n",
       "3                       4  0.0  \n",
       "4                       4  0.0  "
      ]
     },
     "execution_count": 18,
     "metadata": {},
     "output_type": "execute_result"
    }
   ],
   "source": [
    "# Appending CPM for each order in the dataset.\n",
    "# Assuming CPM as revenue per 1000 impressions on publisher side\n",
    "\n",
    "data['CPM'] = (data['total_revenue']/data['measurable_impressions'])*1000\n",
    "data.head()"
   ]
  },
  {
   "cell_type": "markdown",
   "metadata": {},
   "source": [
    "# Reserve values for different ad-types"
   ]
  },
  {
   "cell_type": "code",
   "execution_count": 15,
   "metadata": {},
   "outputs": [
    {
     "data": {
      "text/plain": [
       "2.1918765923456225"
      ]
     },
     "execution_count": 15,
     "metadata": {},
     "output_type": "execute_result"
    }
   ],
   "source": [
    "# Avg. CPM for ad_type = 10\n",
    "\n",
    "df1 = data[data['ad_type_id'] == 10]\n",
    "rev1 = df1['total_revenue'].sum()\n",
    "imp1 = df1['measurable_impressions'].sum()\n",
    "CPM1 = (rev1/imp1)*1000\n",
    "CPM1"
   ]
  },
  {
   "cell_type": "code",
   "execution_count": 16,
   "metadata": {},
   "outputs": [
    {
     "data": {
      "text/plain": [
       "1.4208693657190008"
      ]
     },
     "execution_count": 16,
     "metadata": {},
     "output_type": "execute_result"
    }
   ],
   "source": [
    "# Avg. CPM for ad_type = 17\n",
    "\n",
    "df2 = data[data['ad_type_id'] == 17]\n",
    "rev2 = df2['total_revenue'].sum()\n",
    "imp2 = df2['measurable_impressions'].sum()\n",
    "CPM2 = (rev2/imp2)*1000\n",
    "CPM2"
   ]
  },
  {
   "cell_type": "markdown",
   "metadata": {},
   "source": [
    "- Revenue generated from ad_type 10 was more compared to that of ad_type 17\n",
    "- With a standard deviation of 20%, the reserve value shall be (-20%) CPM, below which the bid shall be revoked."
   ]
  },
  {
   "cell_type": "code",
   "execution_count": 17,
   "metadata": {},
   "outputs": [
    {
     "name": "stdout",
     "output_type": "stream",
     "text": [
      "Reserve value for ad-type = 10 is  1.7535012738764981\n",
      "Reserve value for ad-type = 17 is  1.1366954925752006\n"
     ]
    }
   ],
   "source": [
    "# Reserve values for ad_type = 10 and 17\n",
    "\n",
    "Res1 = 0.8*CPM1\n",
    "Res2 = 0.8*CPM2\n",
    "print(\"Reserve value for ad-type = 10 is \", Res1)\n",
    "print(\"Reserve value for ad-type = 17 is \", Res2)"
   ]
  },
  {
   "cell_type": "markdown",
   "metadata": {},
   "source": [
    "# Revenue prediction for july"
   ]
  },
  {
   "cell_type": "markdown",
   "metadata": {},
   "source": [
    "- Revenue corelates to the number of impressions in the month.\n",
    "- The change in visitors has to be predicted, to better estimate the revenue\n",
    "- So lets group the data based on the date and the site_id so that we can predict the impressions independantly\n",
    "  for all the 10 sites"
   ]
  },
  {
   "cell_type": "code",
   "execution_count": 68,
   "metadata": {},
   "outputs": [
    {
     "data": {
      "text/html": [
       "<div>\n",
       "<style scoped>\n",
       "    .dataframe tbody tr th:only-of-type {\n",
       "        vertical-align: middle;\n",
       "    }\n",
       "\n",
       "    .dataframe tbody tr th {\n",
       "        vertical-align: top;\n",
       "    }\n",
       "\n",
       "    .dataframe thead th {\n",
       "        text-align: right;\n",
       "    }\n",
       "</style>\n",
       "<table border=\"1\" class=\"dataframe\">\n",
       "  <thead>\n",
       "    <tr style=\"text-align: right;\">\n",
       "      <th></th>\n",
       "      <th>date</th>\n",
       "      <th>site_id</th>\n",
       "      <th>measurable_impressions</th>\n",
       "      <th>total_revenue</th>\n",
       "    </tr>\n",
       "  </thead>\n",
       "  <tbody>\n",
       "    <tr>\n",
       "      <th>0</th>\n",
       "      <td>2019-06-30 00:00:00</td>\n",
       "      <td>351</td>\n",
       "      <td>16</td>\n",
       "      <td>0.0</td>\n",
       "    </tr>\n",
       "    <tr>\n",
       "      <th>1</th>\n",
       "      <td>2019-06-30 00:00:00</td>\n",
       "      <td>351</td>\n",
       "      <td>6</td>\n",
       "      <td>0.0</td>\n",
       "    </tr>\n",
       "    <tr>\n",
       "      <th>2</th>\n",
       "      <td>2019-06-30 00:00:00</td>\n",
       "      <td>351</td>\n",
       "      <td>4</td>\n",
       "      <td>0.0</td>\n",
       "    </tr>\n",
       "    <tr>\n",
       "      <th>3</th>\n",
       "      <td>2019-06-30 00:00:00</td>\n",
       "      <td>351</td>\n",
       "      <td>4</td>\n",
       "      <td>0.0</td>\n",
       "    </tr>\n",
       "    <tr>\n",
       "      <th>4</th>\n",
       "      <td>2019-06-30 00:00:00</td>\n",
       "      <td>348</td>\n",
       "      <td>4</td>\n",
       "      <td>0.0</td>\n",
       "    </tr>\n",
       "  </tbody>\n",
       "</table>\n",
       "</div>"
      ],
      "text/plain": [
       "                  date  site_id  measurable_impressions  total_revenue\n",
       "0  2019-06-30 00:00:00      351                      16            0.0\n",
       "1  2019-06-30 00:00:00      351                       6            0.0\n",
       "2  2019-06-30 00:00:00      351                       4            0.0\n",
       "3  2019-06-30 00:00:00      351                       4            0.0\n",
       "4  2019-06-30 00:00:00      348                       4            0.0"
      ]
     },
     "execution_count": 68,
     "metadata": {},
     "output_type": "execute_result"
    }
   ],
   "source": [
    "# dropping irrelevant columns\n",
    "\n",
    "data2 = data[['date', 'site_id', 'measurable_impressions', 'total_revenue']]\n",
    "data2.head()"
   ]
  },
  {
   "cell_type": "code",
   "execution_count": 69,
   "metadata": {},
   "outputs": [
    {
     "data": {
      "text/html": [
       "<div>\n",
       "<style scoped>\n",
       "    .dataframe tbody tr th:only-of-type {\n",
       "        vertical-align: middle;\n",
       "    }\n",
       "\n",
       "    .dataframe tbody tr th {\n",
       "        vertical-align: top;\n",
       "    }\n",
       "\n",
       "    .dataframe thead th {\n",
       "        text-align: right;\n",
       "    }\n",
       "</style>\n",
       "<table border=\"1\" class=\"dataframe\">\n",
       "  <thead>\n",
       "    <tr style=\"text-align: right;\">\n",
       "      <th></th>\n",
       "      <th>date</th>\n",
       "      <th>site_id</th>\n",
       "      <th>measurable_impressions</th>\n",
       "      <th>total_revenue</th>\n",
       "    </tr>\n",
       "  </thead>\n",
       "  <tbody>\n",
       "    <tr>\n",
       "      <th>0</th>\n",
       "      <td>2019-06-30</td>\n",
       "      <td>351</td>\n",
       "      <td>16</td>\n",
       "      <td>0.0</td>\n",
       "    </tr>\n",
       "    <tr>\n",
       "      <th>1</th>\n",
       "      <td>2019-06-30</td>\n",
       "      <td>351</td>\n",
       "      <td>6</td>\n",
       "      <td>0.0</td>\n",
       "    </tr>\n",
       "    <tr>\n",
       "      <th>2</th>\n",
       "      <td>2019-06-30</td>\n",
       "      <td>351</td>\n",
       "      <td>4</td>\n",
       "      <td>0.0</td>\n",
       "    </tr>\n",
       "    <tr>\n",
       "      <th>3</th>\n",
       "      <td>2019-06-30</td>\n",
       "      <td>351</td>\n",
       "      <td>4</td>\n",
       "      <td>0.0</td>\n",
       "    </tr>\n",
       "    <tr>\n",
       "      <th>4</th>\n",
       "      <td>2019-06-30</td>\n",
       "      <td>348</td>\n",
       "      <td>4</td>\n",
       "      <td>0.0</td>\n",
       "    </tr>\n",
       "  </tbody>\n",
       "</table>\n",
       "</div>"
      ],
      "text/plain": [
       "        date  site_id  measurable_impressions  total_revenue\n",
       "0 2019-06-30      351                      16            0.0\n",
       "1 2019-06-30      351                       6            0.0\n",
       "2 2019-06-30      351                       4            0.0\n",
       "3 2019-06-30      351                       4            0.0\n",
       "4 2019-06-30      348                       4            0.0"
      ]
     },
     "execution_count": 69,
     "metadata": {},
     "output_type": "execute_result"
    }
   ],
   "source": [
    "# Aggregate the revenue based on the date and site\n",
    "\n",
    "data2['date'] = pd.to_datetime(data2['date'])\n",
    "data2.groupby([data2['date'].dt.day, data2['site_id']]).sum().reset_index()\n",
    "data2.head()"
   ]
  },
  {
   "cell_type": "code",
   "execution_count": 70,
   "metadata": {},
   "outputs": [],
   "source": [
    "data_new = data2.groupby(\n",
    "   ['date', 'site_id']\n",
    ").agg(\n",
    "    {\n",
    "         'total_revenue':sum,\n",
    "         'measurable_impressions': sum,\n",
    "         'date': 'first'\n",
    "    }\n",
    ")"
   ]
  },
  {
   "cell_type": "markdown",
   "metadata": {},
   "source": [
    "- As the  impressions and revenue on one site may not be co-related to the other , we can split the data based on the site\n",
    "- And the revenue can be predicted independently to the granular level."
   ]
  },
  {
   "cell_type": "code",
   "execution_count": 71,
   "metadata": {},
   "outputs": [],
   "source": [
    "# Lets split the data for multiple sites\n",
    "\n",
    "grouped = data_new.groupby(['site_id'])\n",
    "\n",
    "site_1 = grouped.get_group(342)\n",
    "site_2 = grouped.get_group(343)\n",
    "site_3 = grouped.get_group(344)\n",
    "site_4 = grouped.get_group(345)\n",
    "site_5 = grouped.get_group(346)\n",
    "site_6 = grouped.get_group(347)\n",
    "site_7 = grouped.get_group(348)\n",
    "site_8 = grouped.get_group(349)\n",
    "site_9 = grouped.get_group(350)\n",
    "site_10 = grouped.get_group(351)"
   ]
  },
  {
   "cell_type": "code",
   "execution_count": 72,
   "metadata": {},
   "outputs": [
    {
     "data": {
      "text/html": [
       "<div>\n",
       "<style scoped>\n",
       "    .dataframe tbody tr th:only-of-type {\n",
       "        vertical-align: middle;\n",
       "    }\n",
       "\n",
       "    .dataframe tbody tr th {\n",
       "        vertical-align: top;\n",
       "    }\n",
       "\n",
       "    .dataframe thead th {\n",
       "        text-align: right;\n",
       "    }\n",
       "</style>\n",
       "<table border=\"1\" class=\"dataframe\">\n",
       "  <thead>\n",
       "    <tr style=\"text-align: right;\">\n",
       "      <th></th>\n",
       "      <th></th>\n",
       "      <th>total_revenue</th>\n",
       "      <th>measurable_impressions</th>\n",
       "      <th>date</th>\n",
       "    </tr>\n",
       "    <tr>\n",
       "      <th>date</th>\n",
       "      <th>site_id</th>\n",
       "      <th></th>\n",
       "      <th></th>\n",
       "      <th></th>\n",
       "    </tr>\n",
       "  </thead>\n",
       "  <tbody>\n",
       "    <tr>\n",
       "      <th>2019-06-01</th>\n",
       "      <th>342</th>\n",
       "      <td>42.5428</td>\n",
       "      <td>16202</td>\n",
       "      <td>2019-06-01</td>\n",
       "    </tr>\n",
       "    <tr>\n",
       "      <th>2019-06-02</th>\n",
       "      <th>342</th>\n",
       "      <td>77.7962</td>\n",
       "      <td>28472</td>\n",
       "      <td>2019-06-02</td>\n",
       "    </tr>\n",
       "    <tr>\n",
       "      <th>2019-06-03</th>\n",
       "      <th>342</th>\n",
       "      <td>83.6832</td>\n",
       "      <td>31324</td>\n",
       "      <td>2019-06-03</td>\n",
       "    </tr>\n",
       "    <tr>\n",
       "      <th>2019-06-04</th>\n",
       "      <th>342</th>\n",
       "      <td>36.7982</td>\n",
       "      <td>16798</td>\n",
       "      <td>2019-06-04</td>\n",
       "    </tr>\n",
       "    <tr>\n",
       "      <th>2019-06-05</th>\n",
       "      <th>342</th>\n",
       "      <td>36.4500</td>\n",
       "      <td>14888</td>\n",
       "      <td>2019-06-05</td>\n",
       "    </tr>\n",
       "    <tr>\n",
       "      <th>2019-06-06</th>\n",
       "      <th>342</th>\n",
       "      <td>131.3264</td>\n",
       "      <td>33626</td>\n",
       "      <td>2019-06-06</td>\n",
       "    </tr>\n",
       "    <tr>\n",
       "      <th>2019-06-07</th>\n",
       "      <th>342</th>\n",
       "      <td>49.8022</td>\n",
       "      <td>19964</td>\n",
       "      <td>2019-06-07</td>\n",
       "    </tr>\n",
       "    <tr>\n",
       "      <th>2019-06-08</th>\n",
       "      <th>342</th>\n",
       "      <td>82.4058</td>\n",
       "      <td>13074</td>\n",
       "      <td>2019-06-08</td>\n",
       "    </tr>\n",
       "    <tr>\n",
       "      <th>2019-06-09</th>\n",
       "      <th>342</th>\n",
       "      <td>78.5018</td>\n",
       "      <td>26654</td>\n",
       "      <td>2019-06-09</td>\n",
       "    </tr>\n",
       "    <tr>\n",
       "      <th>2019-06-10</th>\n",
       "      <th>342</th>\n",
       "      <td>101.5244</td>\n",
       "      <td>32334</td>\n",
       "      <td>2019-06-10</td>\n",
       "    </tr>\n",
       "    <tr>\n",
       "      <th>2019-06-11</th>\n",
       "      <th>342</th>\n",
       "      <td>45.5542</td>\n",
       "      <td>16660</td>\n",
       "      <td>2019-06-11</td>\n",
       "    </tr>\n",
       "    <tr>\n",
       "      <th>2019-06-12</th>\n",
       "      <th>342</th>\n",
       "      <td>47.4978</td>\n",
       "      <td>13070</td>\n",
       "      <td>2019-06-12</td>\n",
       "    </tr>\n",
       "    <tr>\n",
       "      <th>2019-06-13</th>\n",
       "      <th>342</th>\n",
       "      <td>84.9398</td>\n",
       "      <td>38644</td>\n",
       "      <td>2019-06-13</td>\n",
       "    </tr>\n",
       "    <tr>\n",
       "      <th>2019-06-14</th>\n",
       "      <th>342</th>\n",
       "      <td>52.9924</td>\n",
       "      <td>21652</td>\n",
       "      <td>2019-06-14</td>\n",
       "    </tr>\n",
       "    <tr>\n",
       "      <th>2019-06-15</th>\n",
       "      <th>342</th>\n",
       "      <td>37.2940</td>\n",
       "      <td>12746</td>\n",
       "      <td>2019-06-15</td>\n",
       "    </tr>\n",
       "    <tr>\n",
       "      <th>2019-06-16</th>\n",
       "      <th>342</th>\n",
       "      <td>61.0374</td>\n",
       "      <td>24828</td>\n",
       "      <td>2019-06-16</td>\n",
       "    </tr>\n",
       "    <tr>\n",
       "      <th>2019-06-17</th>\n",
       "      <th>342</th>\n",
       "      <td>109.8142</td>\n",
       "      <td>35646</td>\n",
       "      <td>2019-06-17</td>\n",
       "    </tr>\n",
       "    <tr>\n",
       "      <th>2019-06-18</th>\n",
       "      <th>342</th>\n",
       "      <td>91.1024</td>\n",
       "      <td>27742</td>\n",
       "      <td>2019-06-18</td>\n",
       "    </tr>\n",
       "    <tr>\n",
       "      <th>2019-06-19</th>\n",
       "      <th>342</th>\n",
       "      <td>43.0954</td>\n",
       "      <td>15818</td>\n",
       "      <td>2019-06-19</td>\n",
       "    </tr>\n",
       "    <tr>\n",
       "      <th>2019-06-20</th>\n",
       "      <th>342</th>\n",
       "      <td>129.9018</td>\n",
       "      <td>40550</td>\n",
       "      <td>2019-06-20</td>\n",
       "    </tr>\n",
       "    <tr>\n",
       "      <th>2019-06-21</th>\n",
       "      <th>342</th>\n",
       "      <td>90.4588</td>\n",
       "      <td>26614</td>\n",
       "      <td>2019-06-21</td>\n",
       "    </tr>\n",
       "    <tr>\n",
       "      <th>2019-06-22</th>\n",
       "      <th>342</th>\n",
       "      <td>62.4900</td>\n",
       "      <td>16830</td>\n",
       "      <td>2019-06-22</td>\n",
       "    </tr>\n",
       "    <tr>\n",
       "      <th>2019-06-23</th>\n",
       "      <th>342</th>\n",
       "      <td>101.0574</td>\n",
       "      <td>32136</td>\n",
       "      <td>2019-06-23</td>\n",
       "    </tr>\n",
       "    <tr>\n",
       "      <th>2019-06-24</th>\n",
       "      <th>342</th>\n",
       "      <td>140.5266</td>\n",
       "      <td>41676</td>\n",
       "      <td>2019-06-24</td>\n",
       "    </tr>\n",
       "    <tr>\n",
       "      <th>2019-06-25</th>\n",
       "      <th>342</th>\n",
       "      <td>56.4974</td>\n",
       "      <td>17102</td>\n",
       "      <td>2019-06-25</td>\n",
       "    </tr>\n",
       "    <tr>\n",
       "      <th>2019-06-26</th>\n",
       "      <th>342</th>\n",
       "      <td>30.5468</td>\n",
       "      <td>11396</td>\n",
       "      <td>2019-06-26</td>\n",
       "    </tr>\n",
       "    <tr>\n",
       "      <th>2019-06-27</th>\n",
       "      <th>342</th>\n",
       "      <td>131.0592</td>\n",
       "      <td>41094</td>\n",
       "      <td>2019-06-27</td>\n",
       "    </tr>\n",
       "    <tr>\n",
       "      <th>2019-06-28</th>\n",
       "      <th>342</th>\n",
       "      <td>83.8976</td>\n",
       "      <td>23888</td>\n",
       "      <td>2019-06-28</td>\n",
       "    </tr>\n",
       "    <tr>\n",
       "      <th>2019-06-29</th>\n",
       "      <th>342</th>\n",
       "      <td>38.3406</td>\n",
       "      <td>14376</td>\n",
       "      <td>2019-06-29</td>\n",
       "    </tr>\n",
       "    <tr>\n",
       "      <th>2019-06-30</th>\n",
       "      <th>342</th>\n",
       "      <td>72.5878</td>\n",
       "      <td>27840</td>\n",
       "      <td>2019-06-30</td>\n",
       "    </tr>\n",
       "  </tbody>\n",
       "</table>\n",
       "</div>"
      ],
      "text/plain": [
       "                    total_revenue  measurable_impressions       date\n",
       "date       site_id                                                  \n",
       "2019-06-01 342            42.5428                   16202 2019-06-01\n",
       "2019-06-02 342            77.7962                   28472 2019-06-02\n",
       "2019-06-03 342            83.6832                   31324 2019-06-03\n",
       "2019-06-04 342            36.7982                   16798 2019-06-04\n",
       "2019-06-05 342            36.4500                   14888 2019-06-05\n",
       "2019-06-06 342           131.3264                   33626 2019-06-06\n",
       "2019-06-07 342            49.8022                   19964 2019-06-07\n",
       "2019-06-08 342            82.4058                   13074 2019-06-08\n",
       "2019-06-09 342            78.5018                   26654 2019-06-09\n",
       "2019-06-10 342           101.5244                   32334 2019-06-10\n",
       "2019-06-11 342            45.5542                   16660 2019-06-11\n",
       "2019-06-12 342            47.4978                   13070 2019-06-12\n",
       "2019-06-13 342            84.9398                   38644 2019-06-13\n",
       "2019-06-14 342            52.9924                   21652 2019-06-14\n",
       "2019-06-15 342            37.2940                   12746 2019-06-15\n",
       "2019-06-16 342            61.0374                   24828 2019-06-16\n",
       "2019-06-17 342           109.8142                   35646 2019-06-17\n",
       "2019-06-18 342            91.1024                   27742 2019-06-18\n",
       "2019-06-19 342            43.0954                   15818 2019-06-19\n",
       "2019-06-20 342           129.9018                   40550 2019-06-20\n",
       "2019-06-21 342            90.4588                   26614 2019-06-21\n",
       "2019-06-22 342            62.4900                   16830 2019-06-22\n",
       "2019-06-23 342           101.0574                   32136 2019-06-23\n",
       "2019-06-24 342           140.5266                   41676 2019-06-24\n",
       "2019-06-25 342            56.4974                   17102 2019-06-25\n",
       "2019-06-26 342            30.5468                   11396 2019-06-26\n",
       "2019-06-27 342           131.0592                   41094 2019-06-27\n",
       "2019-06-28 342            83.8976                   23888 2019-06-28\n",
       "2019-06-29 342            38.3406                   14376 2019-06-29\n",
       "2019-06-30 342            72.5878                   27840 2019-06-30"
      ]
     },
     "execution_count": 72,
     "metadata": {},
     "output_type": "execute_result"
    }
   ],
   "source": [
    "site_1"
   ]
  },
  {
   "cell_type": "markdown",
   "metadata": {},
   "source": [
    "- lets forecast the revenue for site_1 ==> site_id = 342"
   ]
  },
  {
   "cell_type": "code",
   "execution_count": 103,
   "metadata": {},
   "outputs": [
    {
     "data": {
      "text/html": [
       "        <script type=\"text/javascript\">\n",
       "        window.PlotlyConfig = {MathJaxConfig: 'local'};\n",
       "        if (window.MathJax) {MathJax.Hub.Config({SVG: {font: \"STIX-Web\"}});}\n",
       "        if (typeof require !== 'undefined') {\n",
       "        require.undef(\"plotly\");\n",
       "        requirejs.config({\n",
       "            paths: {\n",
       "                'plotly': ['https://cdn.plot.ly/plotly-latest.min']\n",
       "            }\n",
       "        });\n",
       "        require(['plotly'], function(Plotly) {\n",
       "            window._Plotly = Plotly;\n",
       "        });\n",
       "        }\n",
       "        </script>\n",
       "        "
      ]
     },
     "metadata": {},
     "output_type": "display_data"
    }
   ],
   "source": [
    "# EDA Visual\n",
    "\n",
    "from plotly.offline import init_notebook_mode, iplot\n",
    "from plotly import graph_objs as go\n",
    "\n",
    "# Initialize plotly\n",
    "init_notebook_mode(connected=True)"
   ]
  },
  {
   "cell_type": "code",
   "execution_count": 77,
   "metadata": {},
   "outputs": [
    {
     "data": {
      "text/plain": [
       "date        site_id\n",
       "2019-06-01  342        42.5428\n",
       "2019-06-02  342        77.7962\n",
       "2019-06-03  342        83.6832\n",
       "2019-06-04  342        36.7982\n",
       "2019-06-05  342        36.4500\n",
       "Name: total_revenue, dtype: float64"
      ]
     },
     "execution_count": 77,
     "metadata": {},
     "output_type": "execute_result"
    }
   ],
   "source": [
    "site_1new = site_1['total_revenue']\n",
    "site_1new.columns = ['total_revenue']\n",
    "site_1new.head()"
   ]
  },
  {
   "cell_type": "code",
   "execution_count": 104,
   "metadata": {},
   "outputs": [],
   "source": [
    "def plotly_df(df, title=''):\n",
    "    # Visualize all the dataframe columns as line plots\n",
    "    common_kw = dict(x=df.index, mode='lines')\n",
    "    data = [go.Scatter(y=df[c], name=c, **common_kw) for c in df.columns]\n",
    "    layout = dict(title=title)\n",
    "    fig = dict(data=data, layout=layout)\n",
    "    iplot(fig, show_link=False)"
   ]
  },
  {
   "cell_type": "code",
   "execution_count": 62,
   "metadata": {},
   "outputs": [],
   "source": [
    "from fbprophet import Prophet\n",
    "\n",
    "import logging\n",
    "logging.getLogger().setLevel(logging.ERROR)"
   ]
  },
  {
   "cell_type": "code",
   "execution_count": 79,
   "metadata": {},
   "outputs": [
    {
     "data": {
      "text/html": [
       "<div>\n",
       "<style scoped>\n",
       "    .dataframe tbody tr th:only-of-type {\n",
       "        vertical-align: middle;\n",
       "    }\n",
       "\n",
       "    .dataframe tbody tr th {\n",
       "        vertical-align: top;\n",
       "    }\n",
       "\n",
       "    .dataframe thead th {\n",
       "        text-align: right;\n",
       "    }\n",
       "</style>\n",
       "<table border=\"1\" class=\"dataframe\">\n",
       "  <thead>\n",
       "    <tr style=\"text-align: right;\">\n",
       "      <th></th>\n",
       "      <th>ds</th>\n",
       "      <th>s</th>\n",
       "      <th>y</th>\n",
       "    </tr>\n",
       "  </thead>\n",
       "  <tbody>\n",
       "    <tr>\n",
       "      <th>27</th>\n",
       "      <td>2019-06-28</td>\n",
       "      <td>342</td>\n",
       "      <td>83.8976</td>\n",
       "    </tr>\n",
       "    <tr>\n",
       "      <th>28</th>\n",
       "      <td>2019-06-29</td>\n",
       "      <td>342</td>\n",
       "      <td>38.3406</td>\n",
       "    </tr>\n",
       "    <tr>\n",
       "      <th>29</th>\n",
       "      <td>2019-06-30</td>\n",
       "      <td>342</td>\n",
       "      <td>72.5878</td>\n",
       "    </tr>\n",
       "  </tbody>\n",
       "</table>\n",
       "</div>"
      ],
      "text/plain": [
       "           ds    s        y\n",
       "27 2019-06-28  342  83.8976\n",
       "28 2019-06-29  342  38.3406\n",
       "29 2019-06-30  342  72.5878"
      ]
     },
     "execution_count": 79,
     "metadata": {},
     "output_type": "execute_result"
    }
   ],
   "source": [
    "df = site_1new.reset_index()\n",
    "df.columns = ['ds', 's', 'y']\n",
    "df.tail(n=3)"
   ]
  },
  {
   "cell_type": "code",
   "execution_count": 80,
   "metadata": {},
   "outputs": [
    {
     "data": {
      "text/html": [
       "<div>\n",
       "<style scoped>\n",
       "    .dataframe tbody tr th:only-of-type {\n",
       "        vertical-align: middle;\n",
       "    }\n",
       "\n",
       "    .dataframe tbody tr th {\n",
       "        vertical-align: top;\n",
       "    }\n",
       "\n",
       "    .dataframe thead th {\n",
       "        text-align: right;\n",
       "    }\n",
       "</style>\n",
       "<table border=\"1\" class=\"dataframe\">\n",
       "  <thead>\n",
       "    <tr style=\"text-align: right;\">\n",
       "      <th></th>\n",
       "      <th>ds</th>\n",
       "      <th>s</th>\n",
       "      <th>y</th>\n",
       "    </tr>\n",
       "  </thead>\n",
       "  <tbody>\n",
       "    <tr>\n",
       "      <th>22</th>\n",
       "      <td>2019-06-23</td>\n",
       "      <td>342</td>\n",
       "      <td>101.0574</td>\n",
       "    </tr>\n",
       "    <tr>\n",
       "      <th>23</th>\n",
       "      <td>2019-06-24</td>\n",
       "      <td>342</td>\n",
       "      <td>140.5266</td>\n",
       "    </tr>\n",
       "    <tr>\n",
       "      <th>24</th>\n",
       "      <td>2019-06-25</td>\n",
       "      <td>342</td>\n",
       "      <td>56.4974</td>\n",
       "    </tr>\n",
       "  </tbody>\n",
       "</table>\n",
       "</div>"
      ],
      "text/plain": [
       "           ds    s         y\n",
       "22 2019-06-23  342  101.0574\n",
       "23 2019-06-24  342  140.5266\n",
       "24 2019-06-25  342   56.4974"
      ]
     },
     "execution_count": 80,
     "metadata": {},
     "output_type": "execute_result"
    }
   ],
   "source": [
    "prediction_size = 5\n",
    "train_df = df[:-prediction_size]\n",
    "train_df.tail(n=3)"
   ]
  },
  {
   "cell_type": "code",
   "execution_count": 81,
   "metadata": {},
   "outputs": [],
   "source": [
    "m = Prophet()\n",
    "m.fit(train_df);"
   ]
  },
  {
   "cell_type": "code",
   "execution_count": 82,
   "metadata": {},
   "outputs": [
    {
     "data": {
      "text/html": [
       "<div>\n",
       "<style scoped>\n",
       "    .dataframe tbody tr th:only-of-type {\n",
       "        vertical-align: middle;\n",
       "    }\n",
       "\n",
       "    .dataframe tbody tr th {\n",
       "        vertical-align: top;\n",
       "    }\n",
       "\n",
       "    .dataframe thead th {\n",
       "        text-align: right;\n",
       "    }\n",
       "</style>\n",
       "<table border=\"1\" class=\"dataframe\">\n",
       "  <thead>\n",
       "    <tr style=\"text-align: right;\">\n",
       "      <th></th>\n",
       "      <th>ds</th>\n",
       "    </tr>\n",
       "  </thead>\n",
       "  <tbody>\n",
       "    <tr>\n",
       "      <th>27</th>\n",
       "      <td>2019-06-28</td>\n",
       "    </tr>\n",
       "    <tr>\n",
       "      <th>28</th>\n",
       "      <td>2019-06-29</td>\n",
       "    </tr>\n",
       "    <tr>\n",
       "      <th>29</th>\n",
       "      <td>2019-06-30</td>\n",
       "    </tr>\n",
       "  </tbody>\n",
       "</table>\n",
       "</div>"
      ],
      "text/plain": [
       "           ds\n",
       "27 2019-06-28\n",
       "28 2019-06-29\n",
       "29 2019-06-30"
      ]
     },
     "execution_count": 82,
     "metadata": {},
     "output_type": "execute_result"
    }
   ],
   "source": [
    "future = m.make_future_dataframe(periods=prediction_size)\n",
    "future.tail(n=3)"
   ]
  },
  {
   "cell_type": "code",
   "execution_count": 83,
   "metadata": {},
   "outputs": [
    {
     "data": {
      "text/html": [
       "<div>\n",
       "<style scoped>\n",
       "    .dataframe tbody tr th:only-of-type {\n",
       "        vertical-align: middle;\n",
       "    }\n",
       "\n",
       "    .dataframe tbody tr th {\n",
       "        vertical-align: top;\n",
       "    }\n",
       "\n",
       "    .dataframe thead th {\n",
       "        text-align: right;\n",
       "    }\n",
       "</style>\n",
       "<table border=\"1\" class=\"dataframe\">\n",
       "  <thead>\n",
       "    <tr style=\"text-align: right;\">\n",
       "      <th></th>\n",
       "      <th>ds</th>\n",
       "      <th>trend</th>\n",
       "      <th>trend_lower</th>\n",
       "      <th>trend_upper</th>\n",
       "      <th>yhat_lower</th>\n",
       "      <th>yhat_upper</th>\n",
       "      <th>additive_terms</th>\n",
       "      <th>additive_terms_lower</th>\n",
       "      <th>additive_terms_upper</th>\n",
       "      <th>multiplicative_terms</th>\n",
       "      <th>multiplicative_terms_lower</th>\n",
       "      <th>multiplicative_terms_upper</th>\n",
       "      <th>weekly</th>\n",
       "      <th>weekly_lower</th>\n",
       "      <th>weekly_upper</th>\n",
       "      <th>yhat</th>\n",
       "    </tr>\n",
       "  </thead>\n",
       "  <tbody>\n",
       "    <tr>\n",
       "      <th>27</th>\n",
       "      <td>2019-06-28</td>\n",
       "      <td>93.159011</td>\n",
       "      <td>93.159011</td>\n",
       "      <td>93.159011</td>\n",
       "      <td>62.757070</td>\n",
       "      <td>102.276949</td>\n",
       "      <td>-11.701023</td>\n",
       "      <td>-11.701023</td>\n",
       "      <td>-11.701023</td>\n",
       "      <td>0.0</td>\n",
       "      <td>0.0</td>\n",
       "      <td>0.0</td>\n",
       "      <td>-11.701023</td>\n",
       "      <td>-11.701023</td>\n",
       "      <td>-11.701023</td>\n",
       "      <td>81.457988</td>\n",
       "    </tr>\n",
       "    <tr>\n",
       "      <th>28</th>\n",
       "      <td>2019-06-29</td>\n",
       "      <td>94.375872</td>\n",
       "      <td>94.375872</td>\n",
       "      <td>94.375873</td>\n",
       "      <td>58.586720</td>\n",
       "      <td>97.896897</td>\n",
       "      <td>-16.894004</td>\n",
       "      <td>-16.894004</td>\n",
       "      <td>-16.894004</td>\n",
       "      <td>0.0</td>\n",
       "      <td>0.0</td>\n",
       "      <td>0.0</td>\n",
       "      <td>-16.894004</td>\n",
       "      <td>-16.894004</td>\n",
       "      <td>-16.894004</td>\n",
       "      <td>77.481868</td>\n",
       "    </tr>\n",
       "    <tr>\n",
       "      <th>29</th>\n",
       "      <td>2019-06-30</td>\n",
       "      <td>95.592734</td>\n",
       "      <td>95.592733</td>\n",
       "      <td>95.592734</td>\n",
       "      <td>81.428644</td>\n",
       "      <td>121.226865</td>\n",
       "      <td>5.305062</td>\n",
       "      <td>5.305062</td>\n",
       "      <td>5.305062</td>\n",
       "      <td>0.0</td>\n",
       "      <td>0.0</td>\n",
       "      <td>0.0</td>\n",
       "      <td>5.305062</td>\n",
       "      <td>5.305062</td>\n",
       "      <td>5.305062</td>\n",
       "      <td>100.897796</td>\n",
       "    </tr>\n",
       "  </tbody>\n",
       "</table>\n",
       "</div>"
      ],
      "text/plain": [
       "           ds      trend  trend_lower  trend_upper  yhat_lower  yhat_upper  \\\n",
       "27 2019-06-28  93.159011    93.159011    93.159011   62.757070  102.276949   \n",
       "28 2019-06-29  94.375872    94.375872    94.375873   58.586720   97.896897   \n",
       "29 2019-06-30  95.592734    95.592733    95.592734   81.428644  121.226865   \n",
       "\n",
       "    additive_terms  additive_terms_lower  additive_terms_upper  \\\n",
       "27      -11.701023            -11.701023            -11.701023   \n",
       "28      -16.894004            -16.894004            -16.894004   \n",
       "29        5.305062              5.305062              5.305062   \n",
       "\n",
       "    multiplicative_terms  multiplicative_terms_lower  \\\n",
       "27                   0.0                         0.0   \n",
       "28                   0.0                         0.0   \n",
       "29                   0.0                         0.0   \n",
       "\n",
       "    multiplicative_terms_upper     weekly  weekly_lower  weekly_upper  \\\n",
       "27                         0.0 -11.701023    -11.701023    -11.701023   \n",
       "28                         0.0 -16.894004    -16.894004    -16.894004   \n",
       "29                         0.0   5.305062      5.305062      5.305062   \n",
       "\n",
       "          yhat  \n",
       "27   81.457988  \n",
       "28   77.481868  \n",
       "29  100.897796  "
      ]
     },
     "execution_count": 83,
     "metadata": {},
     "output_type": "execute_result"
    }
   ],
   "source": [
    "forecast = m.predict(future)\n",
    "forecast.tail(n=3)"
   ]
  },
  {
   "cell_type": "code",
   "execution_count": 84,
   "metadata": {},
   "outputs": [
    {
     "data": {
      "image/png": "[encoded data removed]",
      "text/plain": [
       "<Figure size 720x432 with 1 Axes>"
      ]
     },
     "metadata": {},
     "output_type": "display_data"
    }
   ],
   "source": [
    "m.plot(forecast);"
   ]
  },
  {
   "cell_type": "markdown",
   "metadata": {},
   "source": [
    "- The above trend depicts that the visitor trend is hitting the peaks every weekends as well as the mid-week days"
   ]
  },
  {
   "cell_type": "code",
   "execution_count": 85,
   "metadata": {},
   "outputs": [
    {
     "data": {
      "image/png": "[encoded data removed]",
      "text/plain": [
       "<Figure size 648x432 with 2 Axes>"
      ]
     },
     "metadata": {},
     "output_type": "display_data"
    }
   ],
   "source": [
    "m.plot_components(forecast);"
   ]
  },
  {
   "cell_type": "code",
   "execution_count": 86,
   "metadata": {},
   "outputs": [
    {
     "name": "stdout",
     "output_type": "stream",
     "text": [
      "ds, trend, trend_lower, trend_upper, yhat_lower, yhat_upper, additive_terms, additive_terms_lower, additive_terms_upper, multiplicative_terms, multiplicative_terms_lower, multiplicative_terms_upper, weekly, weekly_lower, weekly_upper, yhat\n"
     ]
    }
   ],
   "source": [
    "print(', '.join(forecast.columns))"
   ]
  },
  {
   "cell_type": "code",
   "execution_count": 88,
   "metadata": {},
   "outputs": [],
   "source": [
    "def make_comparison_dataframe(historical, forecast):\n",
    "    # Join the history with the forecast.\n",
    "    # The resulting dataset will contain columns 'yhat', 'yhat_lower', 'yhat_upper' and 'y'.\n",
    "    \n",
    "    return forecast.set_index('ds')[['yhat', 'yhat_lower', 'yhat_upper']].join(historical.set_index('ds'))\n"
   ]
  },
  {
   "cell_type": "code",
   "execution_count": 89,
   "metadata": {},
   "outputs": [
    {
     "data": {
      "text/html": [
       "<div>\n",
       "<style scoped>\n",
       "    .dataframe tbody tr th:only-of-type {\n",
       "        vertical-align: middle;\n",
       "    }\n",
       "\n",
       "    .dataframe tbody tr th {\n",
       "        vertical-align: top;\n",
       "    }\n",
       "\n",
       "    .dataframe thead th {\n",
       "        text-align: right;\n",
       "    }\n",
       "</style>\n",
       "<table border=\"1\" class=\"dataframe\">\n",
       "  <thead>\n",
       "    <tr style=\"text-align: right;\">\n",
       "      <th></th>\n",
       "      <th>yhat</th>\n",
       "      <th>yhat_lower</th>\n",
       "      <th>yhat_upper</th>\n",
       "      <th>s</th>\n",
       "      <th>y</th>\n",
       "    </tr>\n",
       "    <tr>\n",
       "      <th>ds</th>\n",
       "      <th></th>\n",
       "      <th></th>\n",
       "      <th></th>\n",
       "      <th></th>\n",
       "      <th></th>\n",
       "    </tr>\n",
       "  </thead>\n",
       "  <tbody>\n",
       "    <tr>\n",
       "      <th>2019-06-28</th>\n",
       "      <td>81.457988</td>\n",
       "      <td>62.757070</td>\n",
       "      <td>102.276949</td>\n",
       "      <td>342</td>\n",
       "      <td>83.8976</td>\n",
       "    </tr>\n",
       "    <tr>\n",
       "      <th>2019-06-29</th>\n",
       "      <td>77.481868</td>\n",
       "      <td>58.586720</td>\n",
       "      <td>97.896897</td>\n",
       "      <td>342</td>\n",
       "      <td>38.3406</td>\n",
       "    </tr>\n",
       "    <tr>\n",
       "      <th>2019-06-30</th>\n",
       "      <td>100.897796</td>\n",
       "      <td>81.428644</td>\n",
       "      <td>121.226865</td>\n",
       "      <td>342</td>\n",
       "      <td>72.5878</td>\n",
       "    </tr>\n",
       "  </tbody>\n",
       "</table>\n",
       "</div>"
      ],
      "text/plain": [
       "                  yhat  yhat_lower  yhat_upper    s        y\n",
       "ds                                                          \n",
       "2019-06-28   81.457988   62.757070  102.276949  342  83.8976\n",
       "2019-06-29   77.481868   58.586720   97.896897  342  38.3406\n",
       "2019-06-30  100.897796   81.428644  121.226865  342  72.5878"
      ]
     },
     "execution_count": 89,
     "metadata": {},
     "output_type": "execute_result"
    }
   ],
   "source": [
    "cmp_df = make_comparison_dataframe(df, forecast)\n",
    "cmp_df.tail(n=3)"
   ]
  },
  {
   "cell_type": "code",
   "execution_count": 90,
   "metadata": {},
   "outputs": [],
   "source": [
    "def calculate_forecast_errors(df, prediction_size):\n",
    "    # Calculate MAPE and MAE of the forecast.\n",
    "   \n",
    "    df = df.copy()\n",
    "    \n",
    "    # Now we calculate the values of e_i and p_i according to the formulas given in the article above.\n",
    "    df['e'] = df['y'] - df['yhat']\n",
    "    df['p'] = 100 * df['e'] / df['y']\n",
    "    \n",
    "    # Now cut out the part of the data which we made our prediction for.\n",
    "    predicted_part = df[-prediction_size:]\n",
    "    \n",
    "    # Define the function that averages absolute error values over the predicted part.\n",
    "    error_mean = lambda error_name: np.mean(np.abs(predicted_part[error_name]))\n",
    "    \n",
    "    # Now we can calculate MAPE and MAE and return the resulting dictionary of errors.\n",
    "    return {'MAPE': error_mean('p'), 'MAE': error_mean('e')}"
   ]
  },
  {
   "cell_type": "code",
   "execution_count": 91,
   "metadata": {},
   "outputs": [
    {
     "name": "stdout",
     "output_type": "stream",
     "text": [
      "MAPE 47.89088836539175\n",
      "MAE 20.01991978644463\n"
     ]
    }
   ],
   "source": [
    "for err_name, err_value in calculate_forecast_errors(cmp_df, prediction_size).items():\n",
    "    print(err_name, err_value)"
   ]
  },
  {
   "cell_type": "markdown",
   "metadata": {},
   "source": [
    "- Mean Absolute error was closer to 20 dollars\n",
    "- And Mean absolute percentage seems to be very high due to the heavy uncertainity in the trend and the model failed to\n",
    "  capture the weekly seasonality"
   ]
  },
  {
   "cell_type": "code",
   "execution_count": 102,
   "metadata": {},
   "outputs": [
    {
     "data": {
      "application/vnd.plotly.v1+json": {
       "config": {
        "plotlyServerURL": "https://plot.ly"
       },
       "data": [
        {
         "line": {
          "width": 0
         },
         "marker": {
          "color": "gray"
         },
         "mode": "lines",
         "name": "Lower Bound",
         "type": "scatter",
         "uid": "f5577735-e426-45d1-9945-98b775021b6d",
         "x": [
          "2019-06-26T00:00:00",
          "2019-06-27T00:00:00",
          "2019-06-28T00:00:00",
          "2019-06-29T00:00:00",
          "2019-06-30T00:00:00"
         ],
         "y": [
          41.48234564650773,
          112.75525446044267,
          62.75707042546397,
          58.58672014998933,
          81.42864391065115
         ]
        },
        {
         "fill": "tonexty",
         "fillcolor": "rgba(68, 68, 68, 0.3)",
         "line": {
          "width": 0
         },
         "marker": {
          "color": "gray"
         },
         "mode": "lines",
         "name": "Upper Bound",
         "type": "scatter",
         "uid": "1721b71b-e31d-4827-8017-d6a70029ad21",
         "x": [
          "2019-06-26T00:00:00",
          "2019-06-27T00:00:00",
          "2019-06-28T00:00:00",
          "2019-06-29T00:00:00",
          "2019-06-30T00:00:00"
         ],
         "y": [
          80.09256291152109,
          150.83380542949376,
          102.2769486796166,
          97.89689661544128,
          121.22686493859638
         ]
        },
        {
         "line": {
          "color": "rgb(31, 119, 180)"
         },
         "mode": "lines",
         "name": "Forecast",
         "type": "scatter",
         "uid": "495b31c9-b58e-4052-ae08-4325562ae868",
         "x": [
          "2019-06-26T00:00:00",
          "2019-06-27T00:00:00",
          "2019-06-28T00:00:00",
          "2019-06-29T00:00:00",
          "2019-06-30T00:00:00"
         ],
         "y": [
          59.38695610419548,
          132.42776642842014,
          81.45798755442497,
          77.48186816508736,
          100.89779578894522
         ]
        },
        {
         "marker": {
          "color": "red"
         },
         "mode": "lines",
         "name": "Actual",
         "type": "scatter",
         "uid": "fd34fa48-fd6b-465e-8de3-2263d39fe128",
         "x": [
          "2019-06-01T00:00:00",
          "2019-06-02T00:00:00",
          "2019-06-03T00:00:00",
          "2019-06-04T00:00:00",
          "2019-06-05T00:00:00",
          "2019-06-06T00:00:00",
          "2019-06-07T00:00:00",
          "2019-06-08T00:00:00",
          "2019-06-09T00:00:00",
          "2019-06-10T00:00:00",
          "2019-06-11T00:00:00",
          "2019-06-12T00:00:00",
          "2019-06-13T00:00:00",
          "2019-06-14T00:00:00",
          "2019-06-15T00:00:00",
          "2019-06-16T00:00:00",
          "2019-06-17T00:00:00",
          "2019-06-18T00:00:00",
          "2019-06-19T00:00:00",
          "2019-06-20T00:00:00",
          "2019-06-21T00:00:00",
          "2019-06-22T00:00:00",
          "2019-06-23T00:00:00",
          "2019-06-24T00:00:00",
          "2019-06-25T00:00:00",
          "2019-06-26T00:00:00",
          "2019-06-27T00:00:00",
          "2019-06-28T00:00:00",
          "2019-06-29T00:00:00",
          "2019-06-30T00:00:00"
         ],
         "y": [
          42.542799999999964,
          77.79620000000003,
          83.68319999999996,
          36.79819999999999,
          36.45,
          131.32639999999998,
          49.802199999999964,
          82.40580000000003,
          78.50180000000007,
          101.52440000000011,
          45.55419999999997,
          47.49779999999998,
          84.9398,
          52.99240000000002,
          37.29400000000002,
          61.03739999999992,
          109.81420000000016,
          91.10239999999997,
          43.09540000000001,
          129.9018,
          90.4588,
          62.489999999999995,
          101.05740000000006,
          140.5266000000001,
          56.49739999999997,
          30.5468,
          131.0592,
          83.89759999999994,
          38.34060000000001,
          72.5878
         ]
        }
       ],
       "layout": {
        "showlegend": false,
        "template": {
         "data": {
          "bar": [
           {
            "error_x": {
             "color": "#2a3f5f"
            },
            "error_y": {
             "color": "#2a3f5f"
            },
            "marker": {
             "line": {
              "color": "#E5ECF6",
              "width": 0.5
             }
            },
            "type": "bar"
           }
          ],
          "barpolar": [
           {
            "marker": {
             "line": {
              "color": "#E5ECF6",
              "width": 0.5
             }
            },
            "type": "barpolar"
           }
          ],
          "carpet": [
           {
            "aaxis": {
             "endlinecolor": "#2a3f5f",
             "gridcolor": "white",
             "linecolor": "white",
             "minorgridcolor": "white",
             "startlinecolor": "#2a3f5f"
            },
            "baxis": {
             "endlinecolor": "#2a3f5f",
             "gridcolor": "white",
             "linecolor": "white",
             "minorgridcolor": "white",
             "startlinecolor": "#2a3f5f"
            },
            "type": "carpet"
           }
          ],
          "choropleth": [
           {
            "colorbar": {
             "outlinewidth": 0,
             "ticks": ""
            },
            "type": "choropleth"
           }
          ],
          "contour": [
           {
            "colorbar": {
             "outlinewidth": 0,
             "ticks": ""
            },
            "colorscale": [
             [
              0,
              "#0d0887"
             ],
             [
              0.1111111111111111,
              "#46039f"
             ],
             [
              0.2222222222222222,
              "#7201a8"
             ],
             [
              0.3333333333333333,
              "#9c179e"
             ],
             [
              0.4444444444444444,
              "#bd3786"
             ],
             [
              0.5555555555555556,
              "#d8576b"
             ],
             [
              0.6666666666666666,
              "#ed7953"
             ],
             [
              0.7777777777777778,
              "#fb9f3a"
             ],
             [
              0.8888888888888888,
              "#fdca26"
             ],
             [
              1,
              "#f0f921"
             ]
            ],
            "type": "contour"
           }
          ],
          "contourcarpet": [
           {
            "colorbar": {
             "outlinewidth": 0,
             "ticks": ""
            },
            "type": "contourcarpet"
           }
          ],
          "heatmap": [
           {
            "colorbar": {
             "outlinewidth": 0,
             "ticks": ""
            },
            "colorscale": [
             [
              0,
              "#0d0887"
             ],
             [
              0.1111111111111111,
              "#46039f"
             ],
             [
              0.2222222222222222,
              "#7201a8"
             ],
             [
              0.3333333333333333,
              "#9c179e"
             ],
             [
              0.4444444444444444,
              "#bd3786"
             ],
             [
              0.5555555555555556,
              "#d8576b"
             ],
             [
              0.6666666666666666,
              "#ed7953"
             ],
             [
              0.7777777777777778,
              "#fb9f3a"
             ],
             [
              0.8888888888888888,
              "#fdca26"
             ],
             [
              1,
              "#f0f921"
             ]
            ],
            "type": "heatmap"
           }
          ],
          "heatmapgl": [
           {
            "colorbar": {
             "outlinewidth": 0,
             "ticks": ""
            },
            "colorscale": [
             [
              0,
              "#0d0887"
             ],
             [
              0.1111111111111111,
              "#46039f"
             ],
             [
              0.2222222222222222,
              "#7201a8"
             ],
             [
              0.3333333333333333,
              "#9c179e"
             ],
             [
              0.4444444444444444,
              "#bd3786"
             ],
             [
              0.5555555555555556,
              "#d8576b"
             ],
             [
              0.6666666666666666,
              "#ed7953"
             ],
             [
              0.7777777777777778,
              "#fb9f3a"
             ],
             [
              0.8888888888888888,
              "#fdca26"
             ],
             [
              1,
              "#f0f921"
             ]
            ],
            "type": "heatmapgl"
           }
          ],
          "histogram": [
           {
            "marker": {
             "colorbar": {
              "outlinewidth": 0,
              "ticks": ""
             }
            },
            "type": "histogram"
           }
          ],
          "histogram2d": [
           {
            "colorbar": {
             "outlinewidth": 0,
             "ticks": ""
            },
            "colorscale": [
             [
              0,
              "#0d0887"
             ],
             [
              0.1111111111111111,
              "#46039f"
             ],
             [
              0.2222222222222222,
              "#7201a8"
             ],
             [
              0.3333333333333333,
              "#9c179e"
             ],
             [
              0.4444444444444444,
              "#bd3786"
             ],
             [
              0.5555555555555556,
              "#d8576b"
             ],
             [
              0.6666666666666666,
              "#ed7953"
             ],
             [
              0.7777777777777778,
              "#fb9f3a"
             ],
             [
              0.8888888888888888,
              "#fdca26"
             ],
             [
              1,
              "#f0f921"
             ]
            ],
            "type": "histogram2d"
           }
          ],
          "histogram2dcontour": [
           {
            "colorbar": {
             "outlinewidth": 0,
             "ticks": ""
            },
            "colorscale": [
             [
              0,
              "#0d0887"
             ],
             [
              0.1111111111111111,
              "#46039f"
             ],
             [
              0.2222222222222222,
              "#7201a8"
             ],
             [
              0.3333333333333333,
              "#9c179e"
             ],
             [
              0.4444444444444444,
              "#bd3786"
             ],
             [
              0.5555555555555556,
              "#d8576b"
             ],
             [
              0.6666666666666666,
              "#ed7953"
             ],
             [
              0.7777777777777778,
              "#fb9f3a"
             ],
             [
              0.8888888888888888,
              "#fdca26"
             ],
             [
              1,
              "#f0f921"
             ]
            ],
            "type": "histogram2dcontour"
           }
          ],
          "mesh3d": [
           {
            "colorbar": {
             "outlinewidth": 0,
             "ticks": ""
            },
            "type": "mesh3d"
           }
          ],
          "parcoords": [
           {
            "line": {
             "colorbar": {
              "outlinewidth": 0,
              "ticks": ""
             }
            },
            "type": "parcoords"
           }
          ],
          "scatter": [
           {
            "marker": {
             "colorbar": {
              "outlinewidth": 0,
              "ticks": ""
             }
            },
            "type": "scatter"
           }
          ],
          "scatter3d": [
           {
            "line": {
             "colorbar": {
              "outlinewidth": 0,
              "ticks": ""
             }
            },
            "marker": {
             "colorbar": {
              "outlinewidth": 0,
              "ticks": ""
             }
            },
            "type": "scatter3d"
           }
          ],
          "scattercarpet": [
           {
            "marker": {
             "colorbar": {
              "outlinewidth": 0,
              "ticks": ""
             }
            },
            "type": "scattercarpet"
           }
          ],
          "scattergeo": [
           {
            "marker": {
             "colorbar": {
              "outlinewidth": 0,
              "ticks": ""
             }
            },
            "type": "scattergeo"
           }
          ],
          "scattergl": [
           {
            "marker": {
             "colorbar": {
              "outlinewidth": 0,
              "ticks": ""
             }
            },
            "type": "scattergl"
           }
          ],
          "scattermapbox": [
           {
            "marker": {
             "colorbar": {
              "outlinewidth": 0,
              "ticks": ""
             }
            },
            "type": "scattermapbox"
           }
          ],
          "scatterpolar": [
           {
            "marker": {
             "colorbar": {
              "outlinewidth": 0,
              "ticks": ""
             }
            },
            "type": "scatterpolar"
           }
          ],
          "scatterpolargl": [
           {
            "marker": {
             "colorbar": {
              "outlinewidth": 0,
              "ticks": ""
             }
            },
            "type": "scatterpolargl"
           }
          ],
          "scatterternary": [
           {
            "marker": {
             "colorbar": {
              "outlinewidth": 0,
              "ticks": ""
             }
            },
            "type": "scatterternary"
           }
          ],
          "surface": [
           {
            "colorbar": {
             "outlinewidth": 0,
             "ticks": ""
            },
            "colorscale": [
             [
              0,
              "#0d0887"
             ],
             [
              0.1111111111111111,
              "#46039f"
             ],
             [
              0.2222222222222222,
              "#7201a8"
             ],
             [
              0.3333333333333333,
              "#9c179e"
             ],
             [
              0.4444444444444444,
              "#bd3786"
             ],
             [
              0.5555555555555556,
              "#d8576b"
             ],
             [
              0.6666666666666666,
              "#ed7953"
             ],
             [
              0.7777777777777778,
              "#fb9f3a"
             ],
             [
              0.8888888888888888,
              "#fdca26"
             ],
             [
              1,
              "#f0f921"
             ]
            ],
            "type": "surface"
           }
          ],
          "table": [
           {
            "cells": {
             "fill": {
              "color": "#EBF0F8"
             },
             "line": {
              "color": "white"
             }
            },
            "header": {
             "fill": {
              "color": "#C8D4E3"
             },
             "line": {
              "color": "white"
             }
            },
            "type": "table"
           }
          ]
         },
         "layout": {
          "annotationdefaults": {
           "arrowcolor": "#2a3f5f",
           "arrowhead": 0,
           "arrowwidth": 1
          },
          "colorscale": {
           "diverging": [
            [
             0,
             "#8e0152"
            ],
            [
             0.1,
             "#c51b7d"
            ],
            [
             0.2,
             "#de77ae"
            ],
            [
             0.3,
             "#f1b6da"
            ],
            [
             0.4,
             "#fde0ef"
            ],
            [
             0.5,
             "#f7f7f7"
            ],
            [
             0.6,
             "#e6f5d0"
            ],
            [
             0.7,
             "#b8e186"
            ],
            [
             0.8,
             "#7fbc41"
            ],
            [
             0.9,
             "#4d9221"
            ],
            [
             1,
             "#276419"
            ]
           ],
           "sequential": [
            [
             0,
             "#0d0887"
            ],
            [
             0.1111111111111111,
             "#46039f"
            ],
            [
             0.2222222222222222,
             "#7201a8"
            ],
            [
             0.3333333333333333,
             "#9c179e"
            ],
            [
             0.4444444444444444,
             "#bd3786"
            ],
            [
             0.5555555555555556,
             "#d8576b"
            ],
            [
             0.6666666666666666,
             "#ed7953"
            ],
            [
             0.7777777777777778,
             "#fb9f3a"
            ],
            [
             0.8888888888888888,
             "#fdca26"
            ],
            [
             1,
             "#f0f921"
            ]
           ],
           "sequentialminus": [
            [
             0,
             "#0d0887"
            ],
            [
             0.1111111111111111,
             "#46039f"
            ],
            [
             0.2222222222222222,
             "#7201a8"
            ],
            [
             0.3333333333333333,
             "#9c179e"
            ],
            [
             0.4444444444444444,
             "#bd3786"
            ],
            [
             0.5555555555555556,
             "#d8576b"
            ],
            [
             0.6666666666666666,
             "#ed7953"
            ],
            [
             0.7777777777777778,
             "#fb9f3a"
            ],
            [
             0.8888888888888888,
             "#fdca26"
            ],
            [
             1,
             "#f0f921"
            ]
           ]
          },
          "colorway": [
           "#636efa",
           "#EF553B",
           "#00cc96",
           "#ab63fa",
           "#FFA15A",
           "#19d3f3",
           "#FF6692",
           "#B6E880",
           "#FF97FF",
           "#FECB52"
          ],
          "font": {
           "color": "#2a3f5f"
          },
          "geo": {
           "bgcolor": "white",
           "lakecolor": "white",
           "landcolor": "#E5ECF6",
           "showlakes": true,
           "showland": true,
           "subunitcolor": "white"
          },
          "hoverlabel": {
           "align": "left"
          },
          "hovermode": "closest",
          "mapbox": {
           "style": "light"
          },
          "paper_bgcolor": "white",
          "plot_bgcolor": "#E5ECF6",
          "polar": {
           "angularaxis": {
            "gridcolor": "white",
            "linecolor": "white",
            "ticks": ""
           },
           "bgcolor": "#E5ECF6",
           "radialaxis": {
            "gridcolor": "white",
            "linecolor": "white",
            "ticks": ""
           }
          },
          "scene": {
           "xaxis": {
            "backgroundcolor": "#E5ECF6",
            "gridcolor": "white",
            "gridwidth": 2,
            "linecolor": "white",
            "showbackground": true,
            "ticks": "",
            "zerolinecolor": "white"
           },
           "yaxis": {
            "backgroundcolor": "#E5ECF6",
            "gridcolor": "white",
            "gridwidth": 2,
            "linecolor": "white",
            "showbackground": true,
            "ticks": "",
            "zerolinecolor": "white"
           },
           "zaxis": {
            "backgroundcolor": "#E5ECF6",
            "gridcolor": "white",
            "gridwidth": 2,
            "linecolor": "white",
            "showbackground": true,
            "ticks": "",
            "zerolinecolor": "white"
           }
          },
          "shapedefaults": {
           "line": {
            "color": "#2a3f5f"
           }
          },
          "ternary": {
           "aaxis": {
            "gridcolor": "white",
            "linecolor": "white",
            "ticks": ""
           },
           "baxis": {
            "gridcolor": "white",
            "linecolor": "white",
            "ticks": ""
           },
           "bgcolor": "#E5ECF6",
           "caxis": {
            "gridcolor": "white",
            "linecolor": "white",
            "ticks": ""
           }
          },
          "title": {
           "x": 0.05
          },
          "xaxis": {
           "automargin": true,
           "gridcolor": "white",
           "linecolor": "white",
           "ticks": "",
           "zerolinecolor": "white",
           "zerolinewidth": 2
          },
          "yaxis": {
           "automargin": true,
           "gridcolor": "white",
           "linecolor": "white",
           "ticks": "",
           "zerolinecolor": "white",
           "zerolinewidth": 2
          }
         }
        },
        "title": {
         "text": "Forcasted Revenue"
        },
        "yaxis": {
         "title": {
          "text": "Revenue"
         }
        }
       }
      },
      "text/html": [
       "<div>\n",
       "        \n",
       "        \n",
       "            <div id=\"d7e963fc-d079-43f3-9a23-84f21cbb0417\" class=\"plotly-graph-div\" style=\"height:525px; width:100%;\"></div>\n",
       "            <script type=\"text/javascript\">\n",
       "                require([\"plotly\"], function(Plotly) {\n",
       "                    window.PLOTLYENV=window.PLOTLYENV || {};\n",
       "                    \n",
       "                if (document.getElementById(\"d7e963fc-d079-43f3-9a23-84f21cbb0417\")) {\n",
       "                    Plotly.newPlot(\n",
       "                        'd7e963fc-d079-43f3-9a23-84f21cbb0417',\n",
       "                        [{\"line\": {\"width\": 0}, \"marker\": {\"color\": \"gray\"}, \"mode\": \"lines\", \"name\": \"Lower Bound\", \"type\": \"scatter\", \"uid\": \"f5577735-e426-45d1-9945-98b775021b6d\", \"x\": [\"2019-06-26T00:00:00\", \"2019-06-27T00:00:00\", \"2019-06-28T00:00:00\", \"2019-06-29T00:00:00\", \"2019-06-30T00:00:00\"], \"y\": [41.48234564650773, 112.75525446044267, 62.75707042546397, 58.58672014998933, 81.42864391065115]}, {\"fill\": \"tonexty\", \"fillcolor\": \"rgba(68, 68, 68, 0.3)\", \"line\": {\"width\": 0}, \"marker\": {\"color\": \"gray\"}, \"mode\": \"lines\", \"name\": \"Upper Bound\", \"type\": \"scatter\", \"uid\": \"1721b71b-e31d-4827-8017-d6a70029ad21\", \"x\": [\"2019-06-26T00:00:00\", \"2019-06-27T00:00:00\", \"2019-06-28T00:00:00\", \"2019-06-29T00:00:00\", \"2019-06-30T00:00:00\"], \"y\": [80.09256291152109, 150.83380542949376, 102.2769486796166, 97.89689661544128, 121.22686493859638]}, {\"line\": {\"color\": \"rgb(31, 119, 180)\"}, \"mode\": \"lines\", \"name\": \"Forecast\", \"type\": \"scatter\", \"uid\": \"495b31c9-b58e-4052-ae08-4325562ae868\", \"x\": [\"2019-06-26T00:00:00\", \"2019-06-27T00:00:00\", \"2019-06-28T00:00:00\", \"2019-06-29T00:00:00\", \"2019-06-30T00:00:00\"], \"y\": [59.38695610419548, 132.42776642842014, 81.45798755442497, 77.48186816508736, 100.89779578894522]}, {\"marker\": {\"color\": \"red\"}, \"mode\": \"lines\", \"name\": \"Actual\", \"type\": \"scatter\", \"uid\": \"fd34fa48-fd6b-465e-8de3-2263d39fe128\", \"x\": [\"2019-06-01T00:00:00\", \"2019-06-02T00:00:00\", \"2019-06-03T00:00:00\", \"2019-06-04T00:00:00\", \"2019-06-05T00:00:00\", \"2019-06-06T00:00:00\", \"2019-06-07T00:00:00\", \"2019-06-08T00:00:00\", \"2019-06-09T00:00:00\", \"2019-06-10T00:00:00\", \"2019-06-11T00:00:00\", \"2019-06-12T00:00:00\", \"2019-06-13T00:00:00\", \"2019-06-14T00:00:00\", \"2019-06-15T00:00:00\", \"2019-06-16T00:00:00\", \"2019-06-17T00:00:00\", \"2019-06-18T00:00:00\", \"2019-06-19T00:00:00\", \"2019-06-20T00:00:00\", \"2019-06-21T00:00:00\", \"2019-06-22T00:00:00\", \"2019-06-23T00:00:00\", \"2019-06-24T00:00:00\", \"2019-06-25T00:00:00\", \"2019-06-26T00:00:00\", \"2019-06-27T00:00:00\", \"2019-06-28T00:00:00\", \"2019-06-29T00:00:00\", \"2019-06-30T00:00:00\"], \"y\": [42.542799999999964, 77.79620000000003, 83.68319999999996, 36.79819999999999, 36.45, 131.32639999999998, 49.802199999999964, 82.40580000000003, 78.50180000000007, 101.52440000000011, 45.55419999999997, 47.49779999999998, 84.9398, 52.99240000000002, 37.29400000000002, 61.03739999999992, 109.81420000000016, 91.10239999999997, 43.09540000000001, 129.9018, 90.4588, 62.489999999999995, 101.05740000000006, 140.5266000000001, 56.49739999999997, 30.5468, 131.0592, 83.89759999999994, 38.34060000000001, 72.5878]}],\n",
       "                        {\"showlegend\": false, \"template\": {\"data\": {\"bar\": [{\"error_x\": {\"color\": \"#2a3f5f\"}, \"error_y\": {\"color\": \"#2a3f5f\"}, \"marker\": {\"line\": {\"color\": \"#E5ECF6\", \"width\": 0.5}}, \"type\": \"bar\"}], \"barpolar\": [{\"marker\": {\"line\": {\"color\": \"#E5ECF6\", \"width\": 0.5}}, \"type\": \"barpolar\"}], \"carpet\": [{\"aaxis\": {\"endlinecolor\": \"#2a3f5f\", \"gridcolor\": \"white\", \"linecolor\": \"white\", \"minorgridcolor\": \"white\", \"startlinecolor\": \"#2a3f5f\"}, \"baxis\": {\"endlinecolor\": \"#2a3f5f\", \"gridcolor\": \"white\", \"linecolor\": \"white\", \"minorgridcolor\": \"white\", \"startlinecolor\": \"#2a3f5f\"}, \"type\": \"carpet\"}], \"choropleth\": [{\"colorbar\": {\"outlinewidth\": 0, \"ticks\": \"\"}, \"type\": \"choropleth\"}], \"contour\": [{\"colorbar\": {\"outlinewidth\": 0, \"ticks\": \"\"}, \"colorscale\": [[0.0, \"#0d0887\"], [0.1111111111111111, \"#46039f\"], [0.2222222222222222, \"#7201a8\"], [0.3333333333333333, \"#9c179e\"], [0.4444444444444444, \"#bd3786\"], [0.5555555555555556, \"#d8576b\"], [0.6666666666666666, \"#ed7953\"], [0.7777777777777778, \"#fb9f3a\"], [0.8888888888888888, \"#fdca26\"], [1.0, \"#f0f921\"]], \"type\": \"contour\"}], \"contourcarpet\": [{\"colorbar\": {\"outlinewidth\": 0, \"ticks\": \"\"}, \"type\": \"contourcarpet\"}], \"heatmap\": [{\"colorbar\": {\"outlinewidth\": 0, \"ticks\": \"\"}, \"colorscale\": [[0.0, \"#0d0887\"], [0.1111111111111111, \"#46039f\"], [0.2222222222222222, \"#7201a8\"], [0.3333333333333333, \"#9c179e\"], [0.4444444444444444, \"#bd3786\"], [0.5555555555555556, \"#d8576b\"], [0.6666666666666666, \"#ed7953\"], [0.7777777777777778, \"#fb9f3a\"], [0.8888888888888888, \"#fdca26\"], [1.0, \"#f0f921\"]], \"type\": \"heatmap\"}], \"heatmapgl\": [{\"colorbar\": {\"outlinewidth\": 0, \"ticks\": \"\"}, \"colorscale\": [[0.0, \"#0d0887\"], [0.1111111111111111, \"#46039f\"], [0.2222222222222222, \"#7201a8\"], [0.3333333333333333, \"#9c179e\"], [0.4444444444444444, \"#bd3786\"], [0.5555555555555556, \"#d8576b\"], [0.6666666666666666, \"#ed7953\"], [0.7777777777777778, \"#fb9f3a\"], [0.8888888888888888, \"#fdca26\"], [1.0, \"#f0f921\"]], \"type\": \"heatmapgl\"}], \"histogram\": [{\"marker\": {\"colorbar\": {\"outlinewidth\": 0, \"ticks\": \"\"}}, \"type\": \"histogram\"}], \"histogram2d\": [{\"colorbar\": {\"outlinewidth\": 0, \"ticks\": \"\"}, \"colorscale\": [[0.0, \"#0d0887\"], [0.1111111111111111, \"#46039f\"], [0.2222222222222222, \"#7201a8\"], [0.3333333333333333, \"#9c179e\"], [0.4444444444444444, \"#bd3786\"], [0.5555555555555556, \"#d8576b\"], [0.6666666666666666, \"#ed7953\"], [0.7777777777777778, \"#fb9f3a\"], [0.8888888888888888, \"#fdca26\"], [1.0, \"#f0f921\"]], \"type\": \"histogram2d\"}], \"histogram2dcontour\": [{\"colorbar\": {\"outlinewidth\": 0, \"ticks\": \"\"}, \"colorscale\": [[0.0, \"#0d0887\"], [0.1111111111111111, \"#46039f\"], [0.2222222222222222, \"#7201a8\"], [0.3333333333333333, \"#9c179e\"], [0.4444444444444444, \"#bd3786\"], [0.5555555555555556, \"#d8576b\"], [0.6666666666666666, \"#ed7953\"], [0.7777777777777778, \"#fb9f3a\"], [0.8888888888888888, \"#fdca26\"], [1.0, \"#f0f921\"]], \"type\": \"histogram2dcontour\"}], \"mesh3d\": [{\"colorbar\": {\"outlinewidth\": 0, \"ticks\": \"\"}, \"type\": \"mesh3d\"}], \"parcoords\": [{\"line\": {\"colorbar\": {\"outlinewidth\": 0, \"ticks\": \"\"}}, \"type\": \"parcoords\"}], \"scatter\": [{\"marker\": {\"colorbar\": {\"outlinewidth\": 0, \"ticks\": \"\"}}, \"type\": \"scatter\"}], \"scatter3d\": [{\"line\": {\"colorbar\": {\"outlinewidth\": 0, \"ticks\": \"\"}}, \"marker\": {\"colorbar\": {\"outlinewidth\": 0, \"ticks\": \"\"}}, \"type\": \"scatter3d\"}], \"scattercarpet\": [{\"marker\": {\"colorbar\": {\"outlinewidth\": 0, \"ticks\": \"\"}}, \"type\": \"scattercarpet\"}], \"scattergeo\": [{\"marker\": {\"colorbar\": {\"outlinewidth\": 0, \"ticks\": \"\"}}, \"type\": \"scattergeo\"}], \"scattergl\": [{\"marker\": {\"colorbar\": {\"outlinewidth\": 0, \"ticks\": \"\"}}, \"type\": \"scattergl\"}], \"scattermapbox\": [{\"marker\": {\"colorbar\": {\"outlinewidth\": 0, \"ticks\": \"\"}}, \"type\": \"scattermapbox\"}], \"scatterpolar\": [{\"marker\": {\"colorbar\": {\"outlinewidth\": 0, \"ticks\": \"\"}}, \"type\": \"scatterpolar\"}], \"scatterpolargl\": [{\"marker\": {\"colorbar\": {\"outlinewidth\": 0, \"ticks\": \"\"}}, \"type\": \"scatterpolargl\"}], \"scatterternary\": [{\"marker\": {\"colorbar\": {\"outlinewidth\": 0, \"ticks\": \"\"}}, \"type\": \"scatterternary\"}], \"surface\": [{\"colorbar\": {\"outlinewidth\": 0, \"ticks\": \"\"}, \"colorscale\": [[0.0, \"#0d0887\"], [0.1111111111111111, \"#46039f\"], [0.2222222222222222, \"#7201a8\"], [0.3333333333333333, \"#9c179e\"], [0.4444444444444444, \"#bd3786\"], [0.5555555555555556, \"#d8576b\"], [0.6666666666666666, \"#ed7953\"], [0.7777777777777778, \"#fb9f3a\"], [0.8888888888888888, \"#fdca26\"], [1.0, \"#f0f921\"]], \"type\": \"surface\"}], \"table\": [{\"cells\": {\"fill\": {\"color\": \"#EBF0F8\"}, \"line\": {\"color\": \"white\"}}, \"header\": {\"fill\": {\"color\": \"#C8D4E3\"}, \"line\": {\"color\": \"white\"}}, \"type\": \"table\"}]}, \"layout\": {\"annotationdefaults\": {\"arrowcolor\": \"#2a3f5f\", \"arrowhead\": 0, \"arrowwidth\": 1}, \"colorscale\": {\"diverging\": [[0, \"#8e0152\"], [0.1, \"#c51b7d\"], [0.2, \"#de77ae\"], [0.3, \"#f1b6da\"], [0.4, \"#fde0ef\"], [0.5, \"#f7f7f7\"], [0.6, \"#e6f5d0\"], [0.7, \"#b8e186\"], [0.8, \"#7fbc41\"], [0.9, \"#4d9221\"], [1, \"#276419\"]], \"sequential\": [[0.0, \"#0d0887\"], [0.1111111111111111, \"#46039f\"], [0.2222222222222222, \"#7201a8\"], [0.3333333333333333, \"#9c179e\"], [0.4444444444444444, \"#bd3786\"], [0.5555555555555556, \"#d8576b\"], [0.6666666666666666, \"#ed7953\"], [0.7777777777777778, \"#fb9f3a\"], [0.8888888888888888, \"#fdca26\"], [1.0, \"#f0f921\"]], \"sequentialminus\": [[0.0, \"#0d0887\"], [0.1111111111111111, \"#46039f\"], [0.2222222222222222, \"#7201a8\"], [0.3333333333333333, \"#9c179e\"], [0.4444444444444444, \"#bd3786\"], [0.5555555555555556, \"#d8576b\"], [0.6666666666666666, \"#ed7953\"], [0.7777777777777778, \"#fb9f3a\"], [0.8888888888888888, \"#fdca26\"], [1.0, \"#f0f921\"]]}, \"colorway\": [\"#636efa\", \"#EF553B\", \"#00cc96\", \"#ab63fa\", \"#FFA15A\", \"#19d3f3\", \"#FF6692\", \"#B6E880\", \"#FF97FF\", \"#FECB52\"], \"font\": {\"color\": \"#2a3f5f\"}, \"geo\": {\"bgcolor\": \"white\", \"lakecolor\": \"white\", \"landcolor\": \"#E5ECF6\", \"showlakes\": true, \"showland\": true, \"subunitcolor\": \"white\"}, \"hoverlabel\": {\"align\": \"left\"}, \"hovermode\": \"closest\", \"mapbox\": {\"style\": \"light\"}, \"paper_bgcolor\": \"white\", \"plot_bgcolor\": \"#E5ECF6\", \"polar\": {\"angularaxis\": {\"gridcolor\": \"white\", \"linecolor\": \"white\", \"ticks\": \"\"}, \"bgcolor\": \"#E5ECF6\", \"radialaxis\": {\"gridcolor\": \"white\", \"linecolor\": \"white\", \"ticks\": \"\"}}, \"scene\": {\"xaxis\": {\"backgroundcolor\": \"#E5ECF6\", \"gridcolor\": \"white\", \"gridwidth\": 2, \"linecolor\": \"white\", \"showbackground\": true, \"ticks\": \"\", \"zerolinecolor\": \"white\"}, \"yaxis\": {\"backgroundcolor\": \"#E5ECF6\", \"gridcolor\": \"white\", \"gridwidth\": 2, \"linecolor\": \"white\", \"showbackground\": true, \"ticks\": \"\", \"zerolinecolor\": \"white\"}, \"zaxis\": {\"backgroundcolor\": \"#E5ECF6\", \"gridcolor\": \"white\", \"gridwidth\": 2, \"linecolor\": \"white\", \"showbackground\": true, \"ticks\": \"\", \"zerolinecolor\": \"white\"}}, \"shapedefaults\": {\"line\": {\"color\": \"#2a3f5f\"}}, \"ternary\": {\"aaxis\": {\"gridcolor\": \"white\", \"linecolor\": \"white\", \"ticks\": \"\"}, \"baxis\": {\"gridcolor\": \"white\", \"linecolor\": \"white\", \"ticks\": \"\"}, \"bgcolor\": \"#E5ECF6\", \"caxis\": {\"gridcolor\": \"white\", \"linecolor\": \"white\", \"ticks\": \"\"}}, \"title\": {\"x\": 0.05}, \"xaxis\": {\"automargin\": true, \"gridcolor\": \"white\", \"linecolor\": \"white\", \"ticks\": \"\", \"zerolinecolor\": \"white\", \"zerolinewidth\": 2}, \"yaxis\": {\"automargin\": true, \"gridcolor\": \"white\", \"linecolor\": \"white\", \"ticks\": \"\", \"zerolinecolor\": \"white\", \"zerolinewidth\": 2}}}, \"title\": {\"text\": \"Forcasted Revenue\"}, \"yaxis\": {\"title\": {\"text\": \"Revenue\"}}},\n",
       "                        {\"responsive\": true}\n",
       "                    ).then(function(){\n",
       "                            \n",
       "var gd = document.getElementById('d7e963fc-d079-43f3-9a23-84f21cbb0417');\n",
       "var x = new MutationObserver(function (mutations, observer) {{\n",
       "        var display = window.getComputedStyle(gd).display;\n",
       "        if (!display || display === 'none') {{\n",
       "            console.log([gd, 'removed!']);\n",
       "            Plotly.purge(gd);\n",
       "            observer.disconnect();\n",
       "        }}\n",
       "}});\n",
       "\n",
       "// Listen for the removal of the full notebook cells\n",
       "var notebookContainer = gd.closest('#notebook-container');\n",
       "if (notebookContainer) {{\n",
       "    x.observe(notebookContainer, {childList: true});\n",
       "}}\n",
       "\n",
       "// Listen for the clearing of the current output cell\n",
       "var outputEl = gd.closest('.output');\n",
       "if (outputEl) {{\n",
       "    x.observe(outputEl, {childList: true});\n",
       "}}\n",
       "\n",
       "                        })\n",
       "                };\n",
       "                });\n",
       "            </script>\n",
       "        </div>"
      ]
     },
     "metadata": {},
     "output_type": "display_data"
    }
   ],
   "source": [
    "def show_forecast(cmp_df, num_predictions, num_values, title):\n",
    "    # Visualizing the forecast.\n",
    "    \n",
    "    def create_go(name, column, num, **kwargs):\n",
    "        points = cmp_df.tail(num)\n",
    "        args = dict(name=name, x=points.index, y=points[column], mode='lines')\n",
    "        args.update(kwargs)\n",
    "        return go.Scatter(**args)\n",
    "    \n",
    "    lower_bound = create_go('Lower Bound', 'yhat_lower', num_predictions,\n",
    "                            line=dict(width=0),\n",
    "                            marker=dict(color=\"gray\"))\n",
    "    upper_bound = create_go('Upper Bound', 'yhat_upper', num_predictions,\n",
    "                            line=dict(width=0),\n",
    "                            marker=dict(color=\"gray\"),\n",
    "                            fillcolor='rgba(68, 68, 68, 0.3)', \n",
    "                            fill='tonexty')\n",
    "    forecast = create_go('Forecast', 'yhat', num_predictions,\n",
    "                         line=dict(color='rgb(31, 119, 180)'))\n",
    "    actual = create_go('Actual', 'y', num_values,\n",
    "                       marker=dict(color=\"red\"))\n",
    "    \n",
    "    # In this case the order of the series is important because of the filling\n",
    "    data = [lower_bound, upper_bound, forecast, actual]\n",
    "\n",
    "    layout = go.Layout(yaxis=dict(title='Revenue'), title=title, showlegend = False)\n",
    "    fig = go.FigureWidget(data=data, layout=layout)\n",
    "    fig.show()\n",
    "\n",
    "show_forecast(cmp_df, prediction_size, 100, 'Forcasted Revenue')"
   ]
  },
  {
   "cell_type": "markdown",
   "metadata": {},
   "source": [
    "- To realize the above interactive plot, you need ipywidgets, plotly support for your notebook else you may see blank screen.\n",
    "- Follow the link for installation: https://plotly.com/python/getting-started/"
   ]
  },
  {
   "cell_type": "code",
   "execution_count": 107,
   "metadata": {},
   "outputs": [
    {
     "data": {
      "image/png": "[encoded data removed]",
      "text/plain": [
       "<Figure size 720x432 with 1 Axes>"
      ]
     },
     "metadata": {},
     "output_type": "display_data"
    }
   ],
   "source": [
    "future = m.make_future_dataframe(periods=10)\n",
    "fcst = m.predict(future)\n",
    "fig = m.plot(fcst)"
   ]
  },
  {
   "cell_type": "markdown",
   "metadata": {},
   "source": [
    "# Conclusions\n",
    "\n",
    "- In the above chart the black dots represent the actual values\n",
    "- Dark blue line represents the trend\n",
    "- The trend without the dots at the RHS are the predictions\n",
    "\n",
    "Note: the above trend was for the revenue forcasts for site_1 ==> site_id = 342\n",
    "We need to repeat the same to determine the revenue for individual sites."
   ]
  },
  {
   "cell_type": "code",
   "execution_count": null,
   "metadata": {},
   "outputs": [],
   "source": []
  }
 ],
 "metadata": {
  "kernelspec": {
   "display_name": "Python 3",
   "language": "python",
   "name": "python3"
  },
  "language_info": {
   "codemirror_mode": {
    "name": "ipython",
    "version": 3
   },
   "file_extension": ".py",
   "mimetype": "text/x-python",
   "name": "python",
   "nbconvert_exporter": "python",
   "pygments_lexer": "ipython3",
   "version": "3.6.4"
  },
  "toc": {
   "base_numbering": 1,
   "nav_menu": {},
   "number_sections": true,
   "sideBar": true,
   "skip_h1_title": false,
   "title_cell": "Table of Contents",
   "title_sidebar": "Contents",
   "toc_cell": false,
   "toc_position": {},
   "toc_section_display": true,
   "toc_window_display": false
  }
 },
 "nbformat": 4,
 "nbformat_minor": 2
}
